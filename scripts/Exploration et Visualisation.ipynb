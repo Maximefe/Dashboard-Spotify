{
 "cells": [
  {
   "cell_type": "code",
   "execution_count": null,
   "metadata": {},
   "outputs": [
    {
     "name": "stdout",
     "output_type": "stream",
     "text": [
      "Note: you may need to restart the kernel to use updated packages.\n"
     ]
    }
   ],
   "source": [
    "#pip freeze > requirements.txt"
   ]
  },
  {
   "cell_type": "code",
   "execution_count": 42,
   "metadata": {},
   "outputs": [],
   "source": [
    "import psycopg2\n",
    "import pandas as pd\n",
    "from datetime import datetime\n",
    "import plotly.graph_objects as go\n",
    "from plotly.subplots import make_subplots\n",
    "import plotly.io as pio\n",
    "from IPython.display import Image, display, HTML\n",
    "from ipywidgets import Dropdown, Output, VBox, Label, Button\n",
    "import ipywidgets as widgets\n",
    "import re\n",
    "from langdetect import detect, DetectorFactory\n",
    "\n",
    "from langdetect.lang_detect_exception import LangDetectException\n",
    "from collections import Counter, defaultdict\n",
    "\n",
    "import spotipy\n",
    "from spotipy.oauth2 import SpotifyOAuth\n",
    "\n",
    "from dotenv import load_dotenv\n",
    "import os\n",
    "\n",
    "import warnings\n",
    "warnings.simplefilter('ignore')"
   ]
  },
  {
   "cell_type": "code",
   "execution_count": 2,
   "metadata": {},
   "outputs": [
    {
     "name": "stderr",
     "output_type": "stream",
     "text": [
      "python-dotenv could not parse statement starting at line 18\n"
     ]
    },
    {
     "data": {
      "text/plain": [
       "True"
      ]
     },
     "execution_count": 2,
     "metadata": {},
     "output_type": "execute_result"
    }
   ],
   "source": [
    "# Charger les variables d'environnement depuis le fichier .env\n",
    "load_dotenv()"
   ]
  },
  {
   "cell_type": "markdown",
   "metadata": {},
   "source": [
    "## Connexion aux Données Spotify"
   ]
  },
  {
   "cell_type": "code",
   "execution_count": 3,
   "metadata": {},
   "outputs": [],
   "source": [
    "# Informations de connexion\n",
    "host= os.getenv(\"koyeb_postgres_host\")\n",
    "dbname = os.getenv(\"koyeb_postgres_db\")\n",
    "user = os.getenv(\"koyeb_postgres_user\")\n",
    "password = os.getenv(\"koyeb_postgres_password\")"
   ]
  },
  {
   "cell_type": "code",
   "execution_count": 4,
   "metadata": {},
   "outputs": [],
   "source": [
    "# Connexion à la base de données\n",
    "conn = psycopg2.connect(host=host, dbname=dbname, user=user, password=password)\n",
    "cursor = conn.cursor()\n",
    "\n",
    "# Fonction pour lire une table dans un DataFrame\n",
    "def lire_table(conn, table_name):\n",
    "    query = f\"SELECT * FROM {table_name};\"\n",
    "    df = pd.read_sql_query(query, conn)\n",
    "    return df\n",
    "\n",
    "# Liste des tables à lire\n",
    "tables = {\n",
    "    \"tracks\": \"df_tracks\",\n",
    "    \"artists\": \"df_artists\",\n",
    "    \"artists_info\": \"df_artists_info\",\n",
    "    \"parole_morceaux\": \"df_parole_morceaux\"\n",
    "}\n",
    "\n",
    "# Lire les tables et les stocker dans les bonnes variables\n",
    "with conn:\n",
    "    for table_name, var_name in tables.items():\n",
    "        globals()[var_name] = lire_table(conn, table_name)\n"
   ]
  },
  {
   "cell_type": "markdown",
   "metadata": {},
   "source": [
    "## Définition des données :"
   ]
  },
  {
   "cell_type": "markdown",
   "metadata": {},
   "source": [
    "#### Dictionnaire des données pour `tracks_df` (Les morceaux les plus écoutés)\n",
    "<p style=\"font-size:10px;\">\n",
    "- <b>track_name</b> : Le nom du morceau<br>\n",
    "- <b>artist_name</b> : Le nom de l'artiste<br>\n",
    "- <b>artist_id</b> : L'ID unique de l'artiste<br>\n",
    "- <b>track_id</b> : L'ID unique du morceau<br>\n",
    "- <b>popularity</b> : Popularité du morceau (score entre 0 et 100)<br>\n",
    "- <b>duration_ms</b> : Durée du morceau en millisecondes<br>\n",
    "- <b>explicit</b> : Si le morceau est explicite<br>\n",
    "- <b>album_name</b> : Le nom de l'album<br>\n",
    "- <b>album_id</b> : L'ID de l'album<br>\n",
    "- <b>album_release_date</b> : Date de sortie de l'album (format: 'YYYY-MM-DD')<br>\n",
    "- <b>album_type</b> : Le type d'album (ex: 'album', 'single', 'compilation')<br>\n",
    "- <b>album_total_tracks</b> : Nombre total de morceaux dans l'album<br>\n",
    "- <b>album_images</b> : URL de l'image de l'album<br>\n",
    "- <b>preview_url</b> : URL pour l'aperçu audio du morceau<br>\n",
    "- <b>external_urls</b> : URL vers le morceau sur Spotify<br>\n",
    "</p>\n",
    "\n",
    "#### Dictionnaire des données pour `artists_df` (Les artistes les plus écoutés)\n",
    "<p style=\"font-size:10px;\">\n",
    "- <b>artist_name</b> : Le nom de l'artiste<br>\n",
    "- <b>artist_id</b> : L'ID unique de l'artiste<br>\n",
    "- <b>popularity</b> : Popularité de l'artiste (score entre 0 et 100)<br>\n",
    "- <b>genres</b> : Liste des genres de l'artiste<br>\n",
    "- <b>followers</b> : Nombre de followers de l'artiste<br>\n",
    "- <b>external_urls</b> : URL vers l'artiste sur Spotify<br>\n",
    "- <b>image_url</b> : URL de l'image de l'artiste<br>\n",
    "- <b>type</b> : Type d'entité (ex: 'artist', 'group', etc.)<br>\n",
    "- <b>uri</b> : URI unique de l'artiste<br>\n",
    "</p>\n",
    "\n",
    "#### Dictionnaire des données pour `parole_morceaux` (Les artistes les plus écoutés)\n",
    "<p style=\"font-size:10px;\">\n",
    "- <b>track_name</b> : Le nom du morceau<br>\n",
    "- <b>artist_name</b> : Le nom de l'artiste<br>\n",
    "- <b>parole</b> : Parole du morceau<br>\n",
    "</p>\n"
   ]
  },
  {
   "cell_type": "markdown",
   "metadata": {},
   "source": [
    "## Exploration des données"
   ]
  },
  {
   "cell_type": "markdown",
   "metadata": {},
   "source": [
    "### df_artists"
   ]
  },
  {
   "cell_type": "code",
   "execution_count": 5,
   "metadata": {},
   "outputs": [
    {
     "name": "stdout",
     "output_type": "stream",
     "text": [
      "\n",
      "Informations générales :\n",
      "<class 'pandas.core.frame.DataFrame'>\n",
      "RangeIndex: 50 entries, 0 to 49\n",
      "Data columns (total 6 columns):\n",
      " #   Column         Non-Null Count  Dtype \n",
      "---  ------         --------------  ----- \n",
      " 0   artist_id      50 non-null     object\n",
      " 1   artist_name    50 non-null     object\n",
      " 2   popularity     50 non-null     int64 \n",
      " 3   genres         50 non-null     object\n",
      " 4   followers      50 non-null     int64 \n",
      " 5   external_urls  50 non-null     object\n",
      "dtypes: int64(2), object(4)\n",
      "memory usage: 2.5+ KB\n",
      "\n",
      "Statistiques descriptives (colonnes numériques) :\n",
      "       popularity     followers\n",
      "count   50.000000  5.000000e+01\n",
      "mean    55.560000  2.389977e+06\n",
      "std     15.210308  6.246822e+06\n",
      "min     25.000000  4.642000e+03\n",
      "25%     48.000000  1.662638e+05\n",
      "50%     54.500000  3.225820e+05\n",
      "75%     63.750000  1.067288e+06\n",
      "max     93.000000  3.656278e+07\n"
     ]
    }
   ],
   "source": [
    "print(\"\\nInformations générales :\")\n",
    "df_artists.info()\n",
    "\n",
    "print(\"\\nStatistiques descriptives (colonnes numériques) :\")\n",
    "print(df_artists.describe())"
   ]
  },
  {
   "cell_type": "markdown",
   "metadata": {},
   "source": [
    "***Pas de valeurs manquantes, types ok et colonnes numériques cohérentes pour df_artists***"
   ]
  },
  {
   "cell_type": "code",
   "execution_count": 6,
   "metadata": {},
   "outputs": [
    {
     "name": "stdout",
     "output_type": "stream",
     "text": [
      "\n",
      "Top valeurs pour la variable genres :\n",
      "genres\n",
      "[]               28\n",
      "[jazz rap]        1\n",
      "[pop urbaine]     1\n",
      "Name: count, dtype: int64\n"
     ]
    }
   ],
   "source": [
    "print(\"\\nTop valeurs pour la variable genres :\")\n",
    "print(df_artists['genres'].value_counts().head(3))"
   ]
  },
  {
   "cell_type": "markdown",
   "metadata": {},
   "source": [
    "Pour le genre plus de la moitié des données sont [], on utilisera donc le genre de la table df_artists_info"
   ]
  },
  {
   "cell_type": "markdown",
   "metadata": {},
   "source": [
    "### df_artists_info"
   ]
  },
  {
   "cell_type": "code",
   "execution_count": 7,
   "metadata": {},
   "outputs": [
    {
     "name": "stdout",
     "output_type": "stream",
     "text": [
      "\n",
      "Informations générales :\n",
      "<class 'pandas.core.frame.DataFrame'>\n",
      "RangeIndex: 76 entries, 0 to 75\n",
      "Data columns (total 8 columns):\n",
      " #   Column           Non-Null Count  Dtype \n",
      "---  ------           --------------  ----- \n",
      " 0   mbid             76 non-null     object\n",
      " 1   artist_name      76 non-null     object\n",
      " 2   url              76 non-null     object\n",
      " 3   listeners        76 non-null     object\n",
      " 4   playcount        76 non-null     object\n",
      " 5   similar_artists  76 non-null     object\n",
      " 6   tags             76 non-null     object\n",
      " 7   bio_summary      76 non-null     object\n",
      "dtypes: object(8)\n",
      "memory usage: 4.9+ KB\n"
     ]
    }
   ],
   "source": [
    "print(\"\\nInformations générales :\")\n",
    "df_artists_info.info()"
   ]
  },
  {
   "cell_type": "markdown",
   "metadata": {},
   "source": [
    "***Pas de valeurs manquantes, mais erreur sur les types pour listeners et playcount***"
   ]
  },
  {
   "cell_type": "code",
   "execution_count": 8,
   "metadata": {},
   "outputs": [],
   "source": [
    "# Convertir les colonnes 'listeners' et 'playcount' en type numérique\n",
    "df_artists_info['listeners'] = pd.to_numeric(df_artists_info['listeners'], errors='coerce')\n",
    "df_artists_info['playcount'] = pd.to_numeric(df_artists_info['playcount'], errors='coerce')"
   ]
  },
  {
   "cell_type": "code",
   "execution_count": 9,
   "metadata": {},
   "outputs": [
    {
     "name": "stdout",
     "output_type": "stream",
     "text": [
      "\n",
      "Statistiques descriptives (colonnes numériques) :\n"
     ]
    },
    {
     "data": {
      "application/vnd.microsoft.datawrangler.viewer.v0+json": {
       "columns": [
        {
         "name": "index",
         "rawType": "object",
         "type": "string"
        },
        {
         "name": "listeners",
         "rawType": "float64",
         "type": "float"
        },
        {
         "name": "playcount",
         "rawType": "float64",
         "type": "float"
        }
       ],
       "conversionMethod": "pd.DataFrame",
       "ref": "ff90a29d-61d2-406e-8510-a22c5883a764",
       "rows": [
        [
         "count",
         "76.0",
         "76.0"
        ],
        [
         "mean",
         "756613.1710526316",
         "38140773.328947365"
        ],
        [
         "std",
         "1332759.7045745081",
         "106472376.73000412"
        ],
        [
         "min",
         "4154.0",
         "20959.0"
        ],
        [
         "25%",
         "31717.25",
         "391914.0"
        ],
        [
         "50%",
         "118057.5",
         "1868657.0"
        ],
        [
         "75%",
         "441057.5",
         "15423123.25"
        ],
        [
         "max",
         "6293607.0",
         "721241950.0"
        ]
       ],
       "shape": {
        "columns": 2,
        "rows": 8
       }
      },
      "text/html": [
       "<div>\n",
       "<style scoped>\n",
       "    .dataframe tbody tr th:only-of-type {\n",
       "        vertical-align: middle;\n",
       "    }\n",
       "\n",
       "    .dataframe tbody tr th {\n",
       "        vertical-align: top;\n",
       "    }\n",
       "\n",
       "    .dataframe thead th {\n",
       "        text-align: right;\n",
       "    }\n",
       "</style>\n",
       "<table border=\"1\" class=\"dataframe\">\n",
       "  <thead>\n",
       "    <tr style=\"text-align: right;\">\n",
       "      <th></th>\n",
       "      <th>listeners</th>\n",
       "      <th>playcount</th>\n",
       "    </tr>\n",
       "  </thead>\n",
       "  <tbody>\n",
       "    <tr>\n",
       "      <th>count</th>\n",
       "      <td>7.600000e+01</td>\n",
       "      <td>7.600000e+01</td>\n",
       "    </tr>\n",
       "    <tr>\n",
       "      <th>mean</th>\n",
       "      <td>7.566132e+05</td>\n",
       "      <td>3.814077e+07</td>\n",
       "    </tr>\n",
       "    <tr>\n",
       "      <th>std</th>\n",
       "      <td>1.332760e+06</td>\n",
       "      <td>1.064724e+08</td>\n",
       "    </tr>\n",
       "    <tr>\n",
       "      <th>min</th>\n",
       "      <td>4.154000e+03</td>\n",
       "      <td>2.095900e+04</td>\n",
       "    </tr>\n",
       "    <tr>\n",
       "      <th>25%</th>\n",
       "      <td>3.171725e+04</td>\n",
       "      <td>3.919140e+05</td>\n",
       "    </tr>\n",
       "    <tr>\n",
       "      <th>50%</th>\n",
       "      <td>1.180575e+05</td>\n",
       "      <td>1.868657e+06</td>\n",
       "    </tr>\n",
       "    <tr>\n",
       "      <th>75%</th>\n",
       "      <td>4.410575e+05</td>\n",
       "      <td>1.542312e+07</td>\n",
       "    </tr>\n",
       "    <tr>\n",
       "      <th>max</th>\n",
       "      <td>6.293607e+06</td>\n",
       "      <td>7.212420e+08</td>\n",
       "    </tr>\n",
       "  </tbody>\n",
       "</table>\n",
       "</div>"
      ],
      "text/plain": [
       "          listeners     playcount\n",
       "count  7.600000e+01  7.600000e+01\n",
       "mean   7.566132e+05  3.814077e+07\n",
       "std    1.332760e+06  1.064724e+08\n",
       "min    4.154000e+03  2.095900e+04\n",
       "25%    3.171725e+04  3.919140e+05\n",
       "50%    1.180575e+05  1.868657e+06\n",
       "75%    4.410575e+05  1.542312e+07\n",
       "max    6.293607e+06  7.212420e+08"
      ]
     },
     "execution_count": 9,
     "metadata": {},
     "output_type": "execute_result"
    }
   ],
   "source": [
    "print(\"\\nStatistiques descriptives (colonnes numériques) :\")\n",
    "df_artists_info.describe()"
   ]
  },
  {
   "cell_type": "code",
   "execution_count": 10,
   "metadata": {},
   "outputs": [
    {
     "name": "stdout",
     "output_type": "stream",
     "text": [
      "\n",
      "Top valeurs pour la variable genres :\n",
      "tags\n",
      "{}                                                    5\n",
      "{rap,Hip-Hop,\"hip hop\",\"seen live\",Grime}             1\n",
      "{jazz,\"female vocalists\",blues,swing,\"jazz vocal\"}    1\n",
      "Name: count, dtype: int64\n"
     ]
    }
   ],
   "source": [
    "print(\"\\nTop valeurs pour la variable genres :\")\n",
    "print(df_artists_info['tags'].value_counts().head(3))"
   ]
  },
  {
   "cell_type": "markdown",
   "metadata": {},
   "source": [
    "Beaucoup moins de données vides pour le genre"
   ]
  },
  {
   "cell_type": "markdown",
   "metadata": {},
   "source": [
    "### df_tracks"
   ]
  },
  {
   "cell_type": "code",
   "execution_count": 11,
   "metadata": {},
   "outputs": [
    {
     "name": "stdout",
     "output_type": "stream",
     "text": [
      "\n",
      "Informations générales :\n",
      "<class 'pandas.core.frame.DataFrame'>\n",
      "RangeIndex: 50 entries, 0 to 49\n",
      "Data columns (total 15 columns):\n",
      " #   Column              Non-Null Count  Dtype \n",
      "---  ------              --------------  ----- \n",
      " 0   track_id            50 non-null     object\n",
      " 1   track_name          50 non-null     object\n",
      " 2   artist_id           50 non-null     object\n",
      " 3   artist_name         50 non-null     object\n",
      " 4   popularity          50 non-null     int64 \n",
      " 5   duration_ms         50 non-null     int64 \n",
      " 6   explicit            50 non-null     bool  \n",
      " 7   album_name          50 non-null     object\n",
      " 8   album_id            50 non-null     object\n",
      " 9   album_release_date  50 non-null     object\n",
      " 10  album_type          50 non-null     object\n",
      " 11  album_total_tracks  50 non-null     int64 \n",
      " 12  album_images        50 non-null     object\n",
      " 13  preview_url         0 non-null      object\n",
      " 14  external_urls       50 non-null     object\n",
      "dtypes: bool(1), int64(3), object(11)\n",
      "memory usage: 5.6+ KB\n",
      "\n",
      "Statistiques descriptives (colonnes numériques) :\n"
     ]
    },
    {
     "data": {
      "application/vnd.microsoft.datawrangler.viewer.v0+json": {
       "columns": [
        {
         "name": "index",
         "rawType": "object",
         "type": "string"
        },
        {
         "name": "popularity",
         "rawType": "float64",
         "type": "float"
        },
        {
         "name": "duration_ms",
         "rawType": "float64",
         "type": "float"
        },
        {
         "name": "album_total_tracks",
         "rawType": "float64",
         "type": "float"
        }
       ],
       "conversionMethod": "pd.DataFrame",
       "ref": "9dcf0828-cafc-4fb0-b535-91a354772f3a",
       "rows": [
        [
         "count",
         "50.0",
         "50.0",
         "50.0"
        ],
        [
         "mean",
         "39.26",
         "237525.52",
         "10.72"
        ],
        [
         "std",
         "17.46227420492999",
         "95989.47620022453",
         "5.753579187722001"
        ],
        [
         "min",
         "1.0",
         "78048.0",
         "1.0"
        ],
        [
         "25%",
         "33.0",
         "157387.5",
         "8.0"
        ],
        [
         "50%",
         "38.0",
         "226855.5",
         "11.0"
        ],
        [
         "75%",
         "47.0",
         "290279.75",
         "13.0"
        ],
        [
         "max",
         "83.0",
         "491148.0",
         "29.0"
        ]
       ],
       "shape": {
        "columns": 3,
        "rows": 8
       }
      },
      "text/html": [
       "<div>\n",
       "<style scoped>\n",
       "    .dataframe tbody tr th:only-of-type {\n",
       "        vertical-align: middle;\n",
       "    }\n",
       "\n",
       "    .dataframe tbody tr th {\n",
       "        vertical-align: top;\n",
       "    }\n",
       "\n",
       "    .dataframe thead th {\n",
       "        text-align: right;\n",
       "    }\n",
       "</style>\n",
       "<table border=\"1\" class=\"dataframe\">\n",
       "  <thead>\n",
       "    <tr style=\"text-align: right;\">\n",
       "      <th></th>\n",
       "      <th>popularity</th>\n",
       "      <th>duration_ms</th>\n",
       "      <th>album_total_tracks</th>\n",
       "    </tr>\n",
       "  </thead>\n",
       "  <tbody>\n",
       "    <tr>\n",
       "      <th>count</th>\n",
       "      <td>50.000000</td>\n",
       "      <td>50.0000</td>\n",
       "      <td>50.000000</td>\n",
       "    </tr>\n",
       "    <tr>\n",
       "      <th>mean</th>\n",
       "      <td>39.260000</td>\n",
       "      <td>237525.5200</td>\n",
       "      <td>10.720000</td>\n",
       "    </tr>\n",
       "    <tr>\n",
       "      <th>std</th>\n",
       "      <td>17.462274</td>\n",
       "      <td>95989.4762</td>\n",
       "      <td>5.753579</td>\n",
       "    </tr>\n",
       "    <tr>\n",
       "      <th>min</th>\n",
       "      <td>1.000000</td>\n",
       "      <td>78048.0000</td>\n",
       "      <td>1.000000</td>\n",
       "    </tr>\n",
       "    <tr>\n",
       "      <th>25%</th>\n",
       "      <td>33.000000</td>\n",
       "      <td>157387.5000</td>\n",
       "      <td>8.000000</td>\n",
       "    </tr>\n",
       "    <tr>\n",
       "      <th>50%</th>\n",
       "      <td>38.000000</td>\n",
       "      <td>226855.5000</td>\n",
       "      <td>11.000000</td>\n",
       "    </tr>\n",
       "    <tr>\n",
       "      <th>75%</th>\n",
       "      <td>47.000000</td>\n",
       "      <td>290279.7500</td>\n",
       "      <td>13.000000</td>\n",
       "    </tr>\n",
       "    <tr>\n",
       "      <th>max</th>\n",
       "      <td>83.000000</td>\n",
       "      <td>491148.0000</td>\n",
       "      <td>29.000000</td>\n",
       "    </tr>\n",
       "  </tbody>\n",
       "</table>\n",
       "</div>"
      ],
      "text/plain": [
       "       popularity  duration_ms  album_total_tracks\n",
       "count   50.000000      50.0000           50.000000\n",
       "mean    39.260000  237525.5200           10.720000\n",
       "std     17.462274   95989.4762            5.753579\n",
       "min      1.000000   78048.0000            1.000000\n",
       "25%     33.000000  157387.5000            8.000000\n",
       "50%     38.000000  226855.5000           11.000000\n",
       "75%     47.000000  290279.7500           13.000000\n",
       "max     83.000000  491148.0000           29.000000"
      ]
     },
     "execution_count": 11,
     "metadata": {},
     "output_type": "execute_result"
    }
   ],
   "source": [
    "print(\"\\nInformations générales :\")\n",
    "df_tracks.info()\n",
    "\n",
    "print(\"\\nStatistiques descriptives (colonnes numériques) :\")\n",
    "df_tracks.describe()"
   ]
  },
  {
   "cell_type": "markdown",
   "metadata": {},
   "source": [
    "preview_url toujours nul le reste pas de valeurs manquantes & pas de valeurs abbérantes sur les données numériques"
   ]
  },
  {
   "cell_type": "markdown",
   "metadata": {},
   "source": [
    "### df_parole_morceaux"
   ]
  },
  {
   "cell_type": "code",
   "execution_count": 12,
   "metadata": {},
   "outputs": [
    {
     "name": "stdout",
     "output_type": "stream",
     "text": [
      "\n",
      "Informations générales :\n",
      "<class 'pandas.core.frame.DataFrame'>\n",
      "RangeIndex: 50 entries, 0 to 49\n",
      "Data columns (total 3 columns):\n",
      " #   Column       Non-Null Count  Dtype \n",
      "---  ------       --------------  ----- \n",
      " 0   track_name   50 non-null     object\n",
      " 1   artist_name  50 non-null     object\n",
      " 2   parole       45 non-null     object\n",
      "dtypes: object(3)\n",
      "memory usage: 1.3+ KB\n"
     ]
    }
   ],
   "source": [
    "print(\"\\nInformations générales :\")\n",
    "df_parole_morceaux.info()"
   ]
  },
  {
   "cell_type": "code",
   "execution_count": 13,
   "metadata": {},
   "outputs": [
    {
     "data": {
      "text/plain": [
       "parole\n",
       "{\"error\":\"seems like lyrics didn't exist on Musixmatch server.\"}    19\n",
       "Name: count, dtype: int64"
      ]
     },
     "execution_count": 13,
     "metadata": {},
     "output_type": "execute_result"
    }
   ],
   "source": [
    "df_parole_morceaux.parole.value_counts().head(1)"
   ]
  },
  {
   "cell_type": "markdown",
   "metadata": {},
   "source": [
    "Valeurs manquantes pour les paroles (Vide ou \"error ...\")"
   ]
  },
  {
   "cell_type": "markdown",
   "metadata": {},
   "source": [
    "## Visualisation des données"
   ]
  },
  {
   "cell_type": "markdown",
   "metadata": {},
   "source": [
    "### Management des données :"
   ]
  },
  {
   "cell_type": "code",
   "execution_count": 14,
   "metadata": {},
   "outputs": [],
   "source": [
    "#Calculer l'ancienneté\n",
    "df_tracks['album_release_date'] = pd.to_datetime(df_tracks['album_release_date'], errors='coerce')\n",
    "df_tracks['duration_min'] = round(df_tracks['duration_ms'] / 60000,2)\n",
    "# Calculer l'écart en années\n",
    "df_tracks['anciennete'] = df_tracks['album_release_date'].apply(\n",
    "    lambda x: datetime.now().year - x.year if pd.notnull(x) else None\n",
    ")\n",
    "\n",
    "# Calculer le classement\n",
    "df_tracks['classement'] = df_tracks.index + 1\n",
    "df_artists['classement'] = df_artists.index + 1"
   ]
  },
  {
   "cell_type": "markdown",
   "metadata": {},
   "source": [
    "### Boxplot & Outliers :"
   ]
  },
  {
   "cell_type": "code",
   "execution_count": 43,
   "metadata": {},
   "outputs": [
    {
     "data": {
      "application/vnd.plotly.v1+json": {
       "config": {
        "plotlyServerURL": "https://plot.ly"
       },
       "data": [
        {
         "boxmean": true,
         "name": "Popularité",
         "type": "box",
         "xaxis": "x",
         "y": {
          "bdata": "EEU0KCEtIzArGz8oGCQiJi8mTQZDDR8hJlMqNiQiKU4INi0fDC8BFCIcJCokLzMmIiY=",
          "dtype": "i1"
         },
         "yaxis": "y"
        },
        {
         "boxmean": true,
         "name": "Ancienneté",
         "type": "box",
         "xaxis": "x2",
         "y": {
          "bdata": "AAAAAAAALkAAAAAAAAA/QAAAAAAAAE1AAAAAAAAAFEAAAAAAAADwPwAAAAAAAABAAAAAAAAAAEAAAAAAAAAIQAAAAAAAABRAAAAAAAAAFEAAAAAAAABKQAAAAAAAABBAAAAAAAAAAEAAAAAAAAAUQAAAAAAAACRAAAAAAAAAGEAAAAAAAAAAQAAAAAAAADFAAAAAAACATUAAAAAAAAA3QAAAAAAAAABAAAAAAAAAAEAAAAAAAAA6QAAAAAAAACBAAAAAAAAAEEAAAAAAAIBDQAAAAAAAACBAAAAAAAAAPkAAAAAAAAAYQAAAAAAAACpAAAAAAAAAOUAAAAAAAAAIQAAAAAAAAABAAAAAAAAACEAAAAAAAAAIQAAAAAAAAAhAAAAAAAAAEEAAAAAAAAAAQAAAAAAAABxAAAAAAAAANEAAAAAAAAA+QAAAAAAAACJAAAAAAAAACEAAAAAAAAAAQAAAAAAAAABAAAAAAAAACEAAAAAAAAAAQAAAAAAAAAhAAAAAAAAAAEA=",
          "dtype": "f8"
         },
         "yaxis": "y2"
        },
        {
         "boxmean": true,
         "name": "Durée (minutes)",
         "type": "box",
         "xaxis": "x3",
         "y": {
          "bdata": "MzMzMzMzFkCamZmZmZkTQOxRuB6F6xxAKVyPwvUoAEBcj8L1KFwHQPYoXI/C9QRAKVyPwvUoDECkcD0K16MCQNejcD0K1wVAexSuR+F6HkCuR+F6FK4NQClcj8L1KARA4XoUrkdhIEBSuB6F61EOQB+F61G4HhBAPQrXo3A9DkCkcD0K16MWQAAAAAAAAARAexSuR+F6BEDD9Shcj8ITQKRwPQrXowpA7FG4HoXrDUCuR+F6FK4NQHsUrkfhegJA4XoUrkfhAECamZmZmZkQQDMzMzMzMxJAmpmZmZmZEkAK16NwPQoQQEjhehSuRxtAMzMzMzMzEUAfhetRuB4HQClcj8L1KBVAw/UoXI/CD0BSuB6F61EQQMP1KFyPwhtACtejcD0KEUDXo3A9CtcHQArXo3A9ChdASOF6FK5HEEB7FK5H4XoUQI/C9ShcjxFAPQrXo3A9AEApXI/C9SgCQArXo3A9ChdAhetRuB6FBUDNzMzMzMwEQB+F61G4HgVAzczMzMzM9D8K16NwPQoBQA==",
          "dtype": "f8"
         },
         "yaxis": "y3"
        }
       ],
       "layout": {
        "annotations": [
         {
          "font": {
           "size": 16
          },
          "showarrow": false,
          "text": "Popularité",
          "x": 0.14444444444444446,
          "xanchor": "center",
          "xref": "paper",
          "y": 1,
          "yanchor": "bottom",
          "yref": "paper"
         },
         {
          "font": {
           "size": 16
          },
          "showarrow": false,
          "text": "Ancienneté",
          "x": 0.5,
          "xanchor": "center",
          "xref": "paper",
          "y": 1,
          "yanchor": "bottom",
          "yref": "paper"
         },
         {
          "font": {
           "size": 16
          },
          "showarrow": false,
          "text": "Durée (minutes)",
          "x": 0.8555555555555556,
          "xanchor": "center",
          "xref": "paper",
          "y": 1,
          "yanchor": "bottom",
          "yref": "paper"
         }
        ],
        "template": {
         "data": {
          "bar": [
           {
            "error_x": {
             "color": "#2a3f5f"
            },
            "error_y": {
             "color": "#2a3f5f"
            },
            "marker": {
             "line": {
              "color": "#E5ECF6",
              "width": 0.5
             },
             "pattern": {
              "fillmode": "overlay",
              "size": 10,
              "solidity": 0.2
             }
            },
            "type": "bar"
           }
          ],
          "barpolar": [
           {
            "marker": {
             "line": {
              "color": "#E5ECF6",
              "width": 0.5
             },
             "pattern": {
              "fillmode": "overlay",
              "size": 10,
              "solidity": 0.2
             }
            },
            "type": "barpolar"
           }
          ],
          "carpet": [
           {
            "aaxis": {
             "endlinecolor": "#2a3f5f",
             "gridcolor": "white",
             "linecolor": "white",
             "minorgridcolor": "white",
             "startlinecolor": "#2a3f5f"
            },
            "baxis": {
             "endlinecolor": "#2a3f5f",
             "gridcolor": "white",
             "linecolor": "white",
             "minorgridcolor": "white",
             "startlinecolor": "#2a3f5f"
            },
            "type": "carpet"
           }
          ],
          "choropleth": [
           {
            "colorbar": {
             "outlinewidth": 0,
             "ticks": ""
            },
            "type": "choropleth"
           }
          ],
          "contour": [
           {
            "colorbar": {
             "outlinewidth": 0,
             "ticks": ""
            },
            "colorscale": [
             [
              0,
              "#0d0887"
             ],
             [
              0.1111111111111111,
              "#46039f"
             ],
             [
              0.2222222222222222,
              "#7201a8"
             ],
             [
              0.3333333333333333,
              "#9c179e"
             ],
             [
              0.4444444444444444,
              "#bd3786"
             ],
             [
              0.5555555555555556,
              "#d8576b"
             ],
             [
              0.6666666666666666,
              "#ed7953"
             ],
             [
              0.7777777777777778,
              "#fb9f3a"
             ],
             [
              0.8888888888888888,
              "#fdca26"
             ],
             [
              1,
              "#f0f921"
             ]
            ],
            "type": "contour"
           }
          ],
          "contourcarpet": [
           {
            "colorbar": {
             "outlinewidth": 0,
             "ticks": ""
            },
            "type": "contourcarpet"
           }
          ],
          "heatmap": [
           {
            "colorbar": {
             "outlinewidth": 0,
             "ticks": ""
            },
            "colorscale": [
             [
              0,
              "#0d0887"
             ],
             [
              0.1111111111111111,
              "#46039f"
             ],
             [
              0.2222222222222222,
              "#7201a8"
             ],
             [
              0.3333333333333333,
              "#9c179e"
             ],
             [
              0.4444444444444444,
              "#bd3786"
             ],
             [
              0.5555555555555556,
              "#d8576b"
             ],
             [
              0.6666666666666666,
              "#ed7953"
             ],
             [
              0.7777777777777778,
              "#fb9f3a"
             ],
             [
              0.8888888888888888,
              "#fdca26"
             ],
             [
              1,
              "#f0f921"
             ]
            ],
            "type": "heatmap"
           }
          ],
          "histogram": [
           {
            "marker": {
             "pattern": {
              "fillmode": "overlay",
              "size": 10,
              "solidity": 0.2
             }
            },
            "type": "histogram"
           }
          ],
          "histogram2d": [
           {
            "colorbar": {
             "outlinewidth": 0,
             "ticks": ""
            },
            "colorscale": [
             [
              0,
              "#0d0887"
             ],
             [
              0.1111111111111111,
              "#46039f"
             ],
             [
              0.2222222222222222,
              "#7201a8"
             ],
             [
              0.3333333333333333,
              "#9c179e"
             ],
             [
              0.4444444444444444,
              "#bd3786"
             ],
             [
              0.5555555555555556,
              "#d8576b"
             ],
             [
              0.6666666666666666,
              "#ed7953"
             ],
             [
              0.7777777777777778,
              "#fb9f3a"
             ],
             [
              0.8888888888888888,
              "#fdca26"
             ],
             [
              1,
              "#f0f921"
             ]
            ],
            "type": "histogram2d"
           }
          ],
          "histogram2dcontour": [
           {
            "colorbar": {
             "outlinewidth": 0,
             "ticks": ""
            },
            "colorscale": [
             [
              0,
              "#0d0887"
             ],
             [
              0.1111111111111111,
              "#46039f"
             ],
             [
              0.2222222222222222,
              "#7201a8"
             ],
             [
              0.3333333333333333,
              "#9c179e"
             ],
             [
              0.4444444444444444,
              "#bd3786"
             ],
             [
              0.5555555555555556,
              "#d8576b"
             ],
             [
              0.6666666666666666,
              "#ed7953"
             ],
             [
              0.7777777777777778,
              "#fb9f3a"
             ],
             [
              0.8888888888888888,
              "#fdca26"
             ],
             [
              1,
              "#f0f921"
             ]
            ],
            "type": "histogram2dcontour"
           }
          ],
          "mesh3d": [
           {
            "colorbar": {
             "outlinewidth": 0,
             "ticks": ""
            },
            "type": "mesh3d"
           }
          ],
          "parcoords": [
           {
            "line": {
             "colorbar": {
              "outlinewidth": 0,
              "ticks": ""
             }
            },
            "type": "parcoords"
           }
          ],
          "pie": [
           {
            "automargin": true,
            "type": "pie"
           }
          ],
          "scatter": [
           {
            "fillpattern": {
             "fillmode": "overlay",
             "size": 10,
             "solidity": 0.2
            },
            "type": "scatter"
           }
          ],
          "scatter3d": [
           {
            "line": {
             "colorbar": {
              "outlinewidth": 0,
              "ticks": ""
             }
            },
            "marker": {
             "colorbar": {
              "outlinewidth": 0,
              "ticks": ""
             }
            },
            "type": "scatter3d"
           }
          ],
          "scattercarpet": [
           {
            "marker": {
             "colorbar": {
              "outlinewidth": 0,
              "ticks": ""
             }
            },
            "type": "scattercarpet"
           }
          ],
          "scattergeo": [
           {
            "marker": {
             "colorbar": {
              "outlinewidth": 0,
              "ticks": ""
             }
            },
            "type": "scattergeo"
           }
          ],
          "scattergl": [
           {
            "marker": {
             "colorbar": {
              "outlinewidth": 0,
              "ticks": ""
             }
            },
            "type": "scattergl"
           }
          ],
          "scattermap": [
           {
            "marker": {
             "colorbar": {
              "outlinewidth": 0,
              "ticks": ""
             }
            },
            "type": "scattermap"
           }
          ],
          "scattermapbox": [
           {
            "marker": {
             "colorbar": {
              "outlinewidth": 0,
              "ticks": ""
             }
            },
            "type": "scattermapbox"
           }
          ],
          "scatterpolar": [
           {
            "marker": {
             "colorbar": {
              "outlinewidth": 0,
              "ticks": ""
             }
            },
            "type": "scatterpolar"
           }
          ],
          "scatterpolargl": [
           {
            "marker": {
             "colorbar": {
              "outlinewidth": 0,
              "ticks": ""
             }
            },
            "type": "scatterpolargl"
           }
          ],
          "scatterternary": [
           {
            "marker": {
             "colorbar": {
              "outlinewidth": 0,
              "ticks": ""
             }
            },
            "type": "scatterternary"
           }
          ],
          "surface": [
           {
            "colorbar": {
             "outlinewidth": 0,
             "ticks": ""
            },
            "colorscale": [
             [
              0,
              "#0d0887"
             ],
             [
              0.1111111111111111,
              "#46039f"
             ],
             [
              0.2222222222222222,
              "#7201a8"
             ],
             [
              0.3333333333333333,
              "#9c179e"
             ],
             [
              0.4444444444444444,
              "#bd3786"
             ],
             [
              0.5555555555555556,
              "#d8576b"
             ],
             [
              0.6666666666666666,
              "#ed7953"
             ],
             [
              0.7777777777777778,
              "#fb9f3a"
             ],
             [
              0.8888888888888888,
              "#fdca26"
             ],
             [
              1,
              "#f0f921"
             ]
            ],
            "type": "surface"
           }
          ],
          "table": [
           {
            "cells": {
             "fill": {
              "color": "#EBF0F8"
             },
             "line": {
              "color": "white"
             }
            },
            "header": {
             "fill": {
              "color": "#C8D4E3"
             },
             "line": {
              "color": "white"
             }
            },
            "type": "table"
           }
          ]
         },
         "layout": {
          "annotationdefaults": {
           "arrowcolor": "#2a3f5f",
           "arrowhead": 0,
           "arrowwidth": 1
          },
          "autotypenumbers": "strict",
          "coloraxis": {
           "colorbar": {
            "outlinewidth": 0,
            "ticks": ""
           }
          },
          "colorscale": {
           "diverging": [
            [
             0,
             "#8e0152"
            ],
            [
             0.1,
             "#c51b7d"
            ],
            [
             0.2,
             "#de77ae"
            ],
            [
             0.3,
             "#f1b6da"
            ],
            [
             0.4,
             "#fde0ef"
            ],
            [
             0.5,
             "#f7f7f7"
            ],
            [
             0.6,
             "#e6f5d0"
            ],
            [
             0.7,
             "#b8e186"
            ],
            [
             0.8,
             "#7fbc41"
            ],
            [
             0.9,
             "#4d9221"
            ],
            [
             1,
             "#276419"
            ]
           ],
           "sequential": [
            [
             0,
             "#0d0887"
            ],
            [
             0.1111111111111111,
             "#46039f"
            ],
            [
             0.2222222222222222,
             "#7201a8"
            ],
            [
             0.3333333333333333,
             "#9c179e"
            ],
            [
             0.4444444444444444,
             "#bd3786"
            ],
            [
             0.5555555555555556,
             "#d8576b"
            ],
            [
             0.6666666666666666,
             "#ed7953"
            ],
            [
             0.7777777777777778,
             "#fb9f3a"
            ],
            [
             0.8888888888888888,
             "#fdca26"
            ],
            [
             1,
             "#f0f921"
            ]
           ],
           "sequentialminus": [
            [
             0,
             "#0d0887"
            ],
            [
             0.1111111111111111,
             "#46039f"
            ],
            [
             0.2222222222222222,
             "#7201a8"
            ],
            [
             0.3333333333333333,
             "#9c179e"
            ],
            [
             0.4444444444444444,
             "#bd3786"
            ],
            [
             0.5555555555555556,
             "#d8576b"
            ],
            [
             0.6666666666666666,
             "#ed7953"
            ],
            [
             0.7777777777777778,
             "#fb9f3a"
            ],
            [
             0.8888888888888888,
             "#fdca26"
            ],
            [
             1,
             "#f0f921"
            ]
           ]
          },
          "colorway": [
           "#636efa",
           "#EF553B",
           "#00cc96",
           "#ab63fa",
           "#FFA15A",
           "#19d3f3",
           "#FF6692",
           "#B6E880",
           "#FF97FF",
           "#FECB52"
          ],
          "font": {
           "color": "#2a3f5f"
          },
          "geo": {
           "bgcolor": "white",
           "lakecolor": "white",
           "landcolor": "#E5ECF6",
           "showlakes": true,
           "showland": true,
           "subunitcolor": "white"
          },
          "hoverlabel": {
           "align": "left"
          },
          "hovermode": "closest",
          "mapbox": {
           "style": "light"
          },
          "paper_bgcolor": "white",
          "plot_bgcolor": "#E5ECF6",
          "polar": {
           "angularaxis": {
            "gridcolor": "white",
            "linecolor": "white",
            "ticks": ""
           },
           "bgcolor": "#E5ECF6",
           "radialaxis": {
            "gridcolor": "white",
            "linecolor": "white",
            "ticks": ""
           }
          },
          "scene": {
           "xaxis": {
            "backgroundcolor": "#E5ECF6",
            "gridcolor": "white",
            "gridwidth": 2,
            "linecolor": "white",
            "showbackground": true,
            "ticks": "",
            "zerolinecolor": "white"
           },
           "yaxis": {
            "backgroundcolor": "#E5ECF6",
            "gridcolor": "white",
            "gridwidth": 2,
            "linecolor": "white",
            "showbackground": true,
            "ticks": "",
            "zerolinecolor": "white"
           },
           "zaxis": {
            "backgroundcolor": "#E5ECF6",
            "gridcolor": "white",
            "gridwidth": 2,
            "linecolor": "white",
            "showbackground": true,
            "ticks": "",
            "zerolinecolor": "white"
           }
          },
          "shapedefaults": {
           "line": {
            "color": "#2a3f5f"
           }
          },
          "ternary": {
           "aaxis": {
            "gridcolor": "white",
            "linecolor": "white",
            "ticks": ""
           },
           "baxis": {
            "gridcolor": "white",
            "linecolor": "white",
            "ticks": ""
           },
           "bgcolor": "#E5ECF6",
           "caxis": {
            "gridcolor": "white",
            "linecolor": "white",
            "ticks": ""
           }
          },
          "title": {
           "x": 0.05
          },
          "xaxis": {
           "automargin": true,
           "gridcolor": "white",
           "linecolor": "white",
           "ticks": "",
           "title": {
            "standoff": 15
           },
           "zerolinecolor": "white",
           "zerolinewidth": 2
          },
          "yaxis": {
           "automargin": true,
           "gridcolor": "white",
           "linecolor": "white",
           "ticks": "",
           "title": {
            "standoff": 15
           },
           "zerolinecolor": "white",
           "zerolinewidth": 2
          }
         }
        },
        "xaxis": {
         "anchor": "y",
         "domain": [
          0,
          0.2888888888888889
         ]
        },
        "xaxis2": {
         "anchor": "y2",
         "domain": [
          0.35555555555555557,
          0.6444444444444445
         ]
        },
        "xaxis3": {
         "anchor": "y3",
         "domain": [
          0.7111111111111111,
          1
         ]
        },
        "yaxis": {
         "anchor": "x",
         "domain": [
          0,
          1
         ]
        },
        "yaxis2": {
         "anchor": "x2",
         "domain": [
          0,
          1
         ]
        },
        "yaxis3": {
         "anchor": "x3",
         "domain": [
          0,
          1
         ]
        }
       }
      }
     },
     "metadata": {},
     "output_type": "display_data"
    }
   ],
   "source": [
    "# Créer une figure avec 3 sous-graphiques côte à côte\n",
    "fig = make_subplots(rows=1, cols=3, subplot_titles=[\"Popularité\", \"Ancienneté\", \"Durée (minutes)\"])\n",
    "\n",
    "# Boxplot pour nos 3 variables\n",
    "fig.add_trace(\n",
    "    go.Box(y=df_tracks['popularity'].dropna(), name=\"Popularité\", boxmean=True),\n",
    "    row=1, col=1\n",
    ")\n",
    "fig.add_trace(\n",
    "    go.Box(y=df_tracks['anciennete'].dropna(), name=\"Ancienneté\", boxmean=True),\n",
    "    row=1, col=2\n",
    ")\n",
    "fig.add_trace(\n",
    "    go.Box(y=df_tracks['duration_min'].dropna(), name=\"Durée (minutes)\", boxmean=True),\n",
    "    row=1, col=3\n",
    ")\n",
    "# Afficher les graphiques\n",
    "try:\n",
    "    fig.show()\n",
    "except:\n",
    "    from IPython.display import Image\n",
    "    pio.write_image(fig, \"boxplots.png\")\n",
    "    display(Image(\"boxplots.png\"))\n"
   ]
  },
  {
   "cell_type": "markdown",
   "metadata": {},
   "source": [
    "On peut détecter quelques outliers pour la popularité et l'ancienneté"
   ]
  },
  {
   "cell_type": "code",
   "execution_count": 16,
   "metadata": {},
   "outputs": [],
   "source": [
    "def detect_outliers(df, column_name):\n",
    "    q1 = df[column_name].quantile(0.25)\n",
    "    q3 = df[column_name].quantile(0.75)\n",
    "    iqr = q3 - q1\n",
    "\n",
    "    # bornes inf et sup\n",
    "    lower_bound = q1 - 1.5 * iqr\n",
    "    upper_bound = q3 + 1.5 * iqr\n",
    "    # Filtrer\n",
    "    outliers_under = df[(df[column_name] < lower_bound)]\n",
    "    outliers_upper = df[(df[column_name] > upper_bound)]\n",
    "\n",
    "    return outliers_under, outliers_upper\n",
    "\n",
    "# pour la popularité\n",
    "outliers_pop_under, outliers_pop_upper = detect_outliers(df_tracks, 'popularity')\n",
    "# pour l'ancienneté\n",
    "outliers_anc_under, outliers_anc_upper = detect_outliers(df_tracks, 'anciennete')"
   ]
  },
  {
   "cell_type": "code",
   "execution_count": 17,
   "metadata": {},
   "outputs": [
    {
     "data": {
      "text/html": [
       "<b>Voici les titres les plus connus du DataFrame :</b>"
      ],
      "text/plain": [
       "<IPython.core.display.HTML object>"
      ]
     },
     "metadata": {},
     "output_type": "display_data"
    },
    {
     "name": "stdout",
     "output_type": "stream",
     "text": [
      "             track_name          artist_name  popularity\n",
      "25   Livin' On A Prayer             Bon Jovi          83\n",
      "31       Falling Behind               Laufey          78\n",
      "18  For What It's Worth  Buffalo Springfield          77\n",
      "1    N.Y. State of Mind                  Nas          69\n"
     ]
    },
    {
     "data": {
      "text/html": [
       "<b>Voici les titres les moins connus du DataFrame :</b>"
      ],
      "text/plain": [
       "<IPython.core.display.HTML object>"
      ]
     },
     "metadata": {},
     "output_type": "display_data"
    },
    {
     "name": "stdout",
     "output_type": "stream",
     "text": [
      "                 track_name    artist_name  popularity\n",
      "38                   Cycles     Ricky Razu           1\n",
      "19  Les princes de la ville            113           6\n",
      "32            it's sky time  Seb Wildblood           8\n"
     ]
    },
    {
     "data": {
      "text/html": [
       "<b>Voici les titres les plus anciens du DataFrame :</b>"
      ],
      "text/plain": [
       "<IPython.core.display.HTML object>"
      ]
     },
     "metadata": {},
     "output_type": "display_data"
    },
    {
     "name": "stdout",
     "output_type": "stream",
     "text": [
      "             track_name             artist_name  anciennete\n",
      "18  For What It's Worth     Buffalo Springfield        59.0\n",
      "2                Heroin  The Velvet Underground        58.0\n",
      "10        Higher Ground           Stevie Wonder        52.0\n",
      "25   Livin' On A Prayer                Bon Jovi        39.0\n"
     ]
    }
   ],
   "source": [
    "# Afficher les titres les plus et les moins populaires\n",
    "display(HTML(\"<b>Voici les titres les plus connus du DataFrame :</b>\"))\n",
    "print(f\"{outliers_pop_upper[['track_name', 'artist_name', 'popularity']].sort_values(by='popularity', ascending=False)}\")\n",
    "\n",
    "\n",
    "display(HTML(\"<b>Voici les titres les moins connus du DataFrame :</b>\"))\n",
    "print(f\"{outliers_pop_under[['track_name', 'artist_name', 'popularity']].sort_values(by='popularity', ascending=True)}\")\n",
    "\n",
    "# Afficher les titres les plus anciens\n",
    "display(HTML(\"<b>Voici les titres les plus anciens du DataFrame :</b>\"))\n",
    "print(f\"{outliers_anc_upper[['track_name', 'artist_name', 'anciennete']].sort_values(by='anciennete', ascending=False)}\")\n"
   ]
  },
  {
   "cell_type": "markdown",
   "metadata": {},
   "source": [
    "On récupère les titres avec des valeurs pouvant être considérées comme aberrantes pour la popularité, \n",
    "mais nous allons les laisser dans l'analyse car il n'y a pas d'erreur dans les données - bien entre 0 et 100.\n",
    "\n",
    "Même chose pour l'ancienneté."
   ]
  },
  {
   "cell_type": "markdown",
   "metadata": {},
   "source": [
    "### Podium du Top Titres :"
   ]
  },
  {
   "cell_type": "code",
   "execution_count": 18,
   "metadata": {},
   "outputs": [],
   "source": [
    "# informations sur les Top titres\n",
    "images = df_tracks['album_images'][df_tracks['classement'] < 4] \n",
    "artists = df_tracks['artist_name'][df_tracks['classement'] < 4] \n",
    "tracks = df_tracks['track_name'][df_tracks['classement'] < 4] \n",
    "popularite = df_tracks['popularity'][df_tracks['classement'] < 4] \n",
    "minute = df_tracks['duration_min'][df_tracks['classement'] < 4] "
   ]
  },
  {
   "cell_type": "code",
   "execution_count": 19,
   "metadata": {},
   "outputs": [
    {
     "data": {
      "application/vnd.plotly.v1+json": {
       "config": {
        "plotlyServerURL": "https://plot.ly"
       },
       "data": [],
       "layout": {
        "annotations": [
         {
          "font": {
           "size": 10
          },
          "showarrow": false,
          "text": "<b>Nas<br>N.Y. State of Mind</b><br>Durée : 4.9 min<br>Popularité : 69",
          "x": 0.5,
          "xanchor": "center",
          "y": 0.1
         },
         {
          "font": {
           "size": 10
          },
          "showarrow": false,
          "text": "<b>FCL<br>Let's Go</b><br>Durée : 5.55 min<br>Popularité : 16",
          "x": 1.5,
          "xanchor": "center",
          "y": 0.1
         },
         {
          "font": {
           "size": 10
          },
          "showarrow": false,
          "text": "<b>The Velvet Underground<br>Heroin</b><br>Durée : 7.23 min<br>Popularité : 52",
          "x": 2.5,
          "xanchor": "center",
          "y": 0.1
         },
         {
          "font": {
           "size": 26
          },
          "showarrow": false,
          "text": "<b>Top titres</b>",
          "x": 1.5,
          "xanchor": "center",
          "y": 0.95,
          "yanchor": "top"
         }
        ],
        "height": 400,
        "images": [
         {
          "sizex": 0.5,
          "sizey": 0.5,
          "source": "https://i.scdn.co/image/ab67616d0000b273045fc920ecf4f8094888ec26",
          "x": 0.5,
          "xanchor": "center",
          "xref": "x",
          "y": 0.5,
          "yanchor": "middle",
          "yref": "y"
         },
         {
          "sizex": 0.6,
          "sizey": 0.6,
          "source": "https://i.scdn.co/image/ab67616d0000b273bb8c251d16b2a3acff7431ec",
          "x": 1.5,
          "xanchor": "center",
          "xref": "x",
          "y": 0.6,
          "yanchor": "middle",
          "yref": "y"
         },
         {
          "sizex": 0.5,
          "sizey": 0.5,
          "source": "https://i.scdn.co/image/ab67616d0000b27398260c528e6eec9dd431c1d7",
          "x": 2.5,
          "xanchor": "center",
          "xref": "x",
          "y": 0.4,
          "yanchor": "middle",
          "yref": "y"
         }
        ],
        "margin": {
         "b": 0,
         "l": 0,
         "r": 0,
         "t": 0
        },
        "paper_bgcolor": "white",
        "plot_bgcolor": "white",
        "shapes": [
         {
          "fillcolor": "lightgray",
          "line": {
           "width": 0
          },
          "type": "rect",
          "x0": 0,
          "x1": 1,
          "y0": 0,
          "y1": 0.2
         },
         {
          "fillcolor": "gold",
          "line": {
           "width": 0
          },
          "type": "rect",
          "x0": 1,
          "x1": 2,
          "y0": 0,
          "y1": 0.3
         },
         {
          "fillcolor": "lightgray",
          "line": {
           "width": 0
          },
          "type": "rect",
          "x0": 2,
          "x1": 3,
          "y0": 0,
          "y1": 0.2
         }
        ],
        "template": {
         "data": {
          "bar": [
           {
            "error_x": {
             "color": "#2a3f5f"
            },
            "error_y": {
             "color": "#2a3f5f"
            },
            "marker": {
             "line": {
              "color": "#E5ECF6",
              "width": 0.5
             },
             "pattern": {
              "fillmode": "overlay",
              "size": 10,
              "solidity": 0.2
             }
            },
            "type": "bar"
           }
          ],
          "barpolar": [
           {
            "marker": {
             "line": {
              "color": "#E5ECF6",
              "width": 0.5
             },
             "pattern": {
              "fillmode": "overlay",
              "size": 10,
              "solidity": 0.2
             }
            },
            "type": "barpolar"
           }
          ],
          "carpet": [
           {
            "aaxis": {
             "endlinecolor": "#2a3f5f",
             "gridcolor": "white",
             "linecolor": "white",
             "minorgridcolor": "white",
             "startlinecolor": "#2a3f5f"
            },
            "baxis": {
             "endlinecolor": "#2a3f5f",
             "gridcolor": "white",
             "linecolor": "white",
             "minorgridcolor": "white",
             "startlinecolor": "#2a3f5f"
            },
            "type": "carpet"
           }
          ],
          "choropleth": [
           {
            "colorbar": {
             "outlinewidth": 0,
             "ticks": ""
            },
            "type": "choropleth"
           }
          ],
          "contour": [
           {
            "colorbar": {
             "outlinewidth": 0,
             "ticks": ""
            },
            "colorscale": [
             [
              0,
              "#0d0887"
             ],
             [
              0.1111111111111111,
              "#46039f"
             ],
             [
              0.2222222222222222,
              "#7201a8"
             ],
             [
              0.3333333333333333,
              "#9c179e"
             ],
             [
              0.4444444444444444,
              "#bd3786"
             ],
             [
              0.5555555555555556,
              "#d8576b"
             ],
             [
              0.6666666666666666,
              "#ed7953"
             ],
             [
              0.7777777777777778,
              "#fb9f3a"
             ],
             [
              0.8888888888888888,
              "#fdca26"
             ],
             [
              1,
              "#f0f921"
             ]
            ],
            "type": "contour"
           }
          ],
          "contourcarpet": [
           {
            "colorbar": {
             "outlinewidth": 0,
             "ticks": ""
            },
            "type": "contourcarpet"
           }
          ],
          "heatmap": [
           {
            "colorbar": {
             "outlinewidth": 0,
             "ticks": ""
            },
            "colorscale": [
             [
              0,
              "#0d0887"
             ],
             [
              0.1111111111111111,
              "#46039f"
             ],
             [
              0.2222222222222222,
              "#7201a8"
             ],
             [
              0.3333333333333333,
              "#9c179e"
             ],
             [
              0.4444444444444444,
              "#bd3786"
             ],
             [
              0.5555555555555556,
              "#d8576b"
             ],
             [
              0.6666666666666666,
              "#ed7953"
             ],
             [
              0.7777777777777778,
              "#fb9f3a"
             ],
             [
              0.8888888888888888,
              "#fdca26"
             ],
             [
              1,
              "#f0f921"
             ]
            ],
            "type": "heatmap"
           }
          ],
          "histogram": [
           {
            "marker": {
             "pattern": {
              "fillmode": "overlay",
              "size": 10,
              "solidity": 0.2
             }
            },
            "type": "histogram"
           }
          ],
          "histogram2d": [
           {
            "colorbar": {
             "outlinewidth": 0,
             "ticks": ""
            },
            "colorscale": [
             [
              0,
              "#0d0887"
             ],
             [
              0.1111111111111111,
              "#46039f"
             ],
             [
              0.2222222222222222,
              "#7201a8"
             ],
             [
              0.3333333333333333,
              "#9c179e"
             ],
             [
              0.4444444444444444,
              "#bd3786"
             ],
             [
              0.5555555555555556,
              "#d8576b"
             ],
             [
              0.6666666666666666,
              "#ed7953"
             ],
             [
              0.7777777777777778,
              "#fb9f3a"
             ],
             [
              0.8888888888888888,
              "#fdca26"
             ],
             [
              1,
              "#f0f921"
             ]
            ],
            "type": "histogram2d"
           }
          ],
          "histogram2dcontour": [
           {
            "colorbar": {
             "outlinewidth": 0,
             "ticks": ""
            },
            "colorscale": [
             [
              0,
              "#0d0887"
             ],
             [
              0.1111111111111111,
              "#46039f"
             ],
             [
              0.2222222222222222,
              "#7201a8"
             ],
             [
              0.3333333333333333,
              "#9c179e"
             ],
             [
              0.4444444444444444,
              "#bd3786"
             ],
             [
              0.5555555555555556,
              "#d8576b"
             ],
             [
              0.6666666666666666,
              "#ed7953"
             ],
             [
              0.7777777777777778,
              "#fb9f3a"
             ],
             [
              0.8888888888888888,
              "#fdca26"
             ],
             [
              1,
              "#f0f921"
             ]
            ],
            "type": "histogram2dcontour"
           }
          ],
          "mesh3d": [
           {
            "colorbar": {
             "outlinewidth": 0,
             "ticks": ""
            },
            "type": "mesh3d"
           }
          ],
          "parcoords": [
           {
            "line": {
             "colorbar": {
              "outlinewidth": 0,
              "ticks": ""
             }
            },
            "type": "parcoords"
           }
          ],
          "pie": [
           {
            "automargin": true,
            "type": "pie"
           }
          ],
          "scatter": [
           {
            "fillpattern": {
             "fillmode": "overlay",
             "size": 10,
             "solidity": 0.2
            },
            "type": "scatter"
           }
          ],
          "scatter3d": [
           {
            "line": {
             "colorbar": {
              "outlinewidth": 0,
              "ticks": ""
             }
            },
            "marker": {
             "colorbar": {
              "outlinewidth": 0,
              "ticks": ""
             }
            },
            "type": "scatter3d"
           }
          ],
          "scattercarpet": [
           {
            "marker": {
             "colorbar": {
              "outlinewidth": 0,
              "ticks": ""
             }
            },
            "type": "scattercarpet"
           }
          ],
          "scattergeo": [
           {
            "marker": {
             "colorbar": {
              "outlinewidth": 0,
              "ticks": ""
             }
            },
            "type": "scattergeo"
           }
          ],
          "scattergl": [
           {
            "marker": {
             "colorbar": {
              "outlinewidth": 0,
              "ticks": ""
             }
            },
            "type": "scattergl"
           }
          ],
          "scattermap": [
           {
            "marker": {
             "colorbar": {
              "outlinewidth": 0,
              "ticks": ""
             }
            },
            "type": "scattermap"
           }
          ],
          "scattermapbox": [
           {
            "marker": {
             "colorbar": {
              "outlinewidth": 0,
              "ticks": ""
             }
            },
            "type": "scattermapbox"
           }
          ],
          "scatterpolar": [
           {
            "marker": {
             "colorbar": {
              "outlinewidth": 0,
              "ticks": ""
             }
            },
            "type": "scatterpolar"
           }
          ],
          "scatterpolargl": [
           {
            "marker": {
             "colorbar": {
              "outlinewidth": 0,
              "ticks": ""
             }
            },
            "type": "scatterpolargl"
           }
          ],
          "scatterternary": [
           {
            "marker": {
             "colorbar": {
              "outlinewidth": 0,
              "ticks": ""
             }
            },
            "type": "scatterternary"
           }
          ],
          "surface": [
           {
            "colorbar": {
             "outlinewidth": 0,
             "ticks": ""
            },
            "colorscale": [
             [
              0,
              "#0d0887"
             ],
             [
              0.1111111111111111,
              "#46039f"
             ],
             [
              0.2222222222222222,
              "#7201a8"
             ],
             [
              0.3333333333333333,
              "#9c179e"
             ],
             [
              0.4444444444444444,
              "#bd3786"
             ],
             [
              0.5555555555555556,
              "#d8576b"
             ],
             [
              0.6666666666666666,
              "#ed7953"
             ],
             [
              0.7777777777777778,
              "#fb9f3a"
             ],
             [
              0.8888888888888888,
              "#fdca26"
             ],
             [
              1,
              "#f0f921"
             ]
            ],
            "type": "surface"
           }
          ],
          "table": [
           {
            "cells": {
             "fill": {
              "color": "#EBF0F8"
             },
             "line": {
              "color": "white"
             }
            },
            "header": {
             "fill": {
              "color": "#C8D4E3"
             },
             "line": {
              "color": "white"
             }
            },
            "type": "table"
           }
          ]
         },
         "layout": {
          "annotationdefaults": {
           "arrowcolor": "#2a3f5f",
           "arrowhead": 0,
           "arrowwidth": 1
          },
          "autotypenumbers": "strict",
          "coloraxis": {
           "colorbar": {
            "outlinewidth": 0,
            "ticks": ""
           }
          },
          "colorscale": {
           "diverging": [
            [
             0,
             "#8e0152"
            ],
            [
             0.1,
             "#c51b7d"
            ],
            [
             0.2,
             "#de77ae"
            ],
            [
             0.3,
             "#f1b6da"
            ],
            [
             0.4,
             "#fde0ef"
            ],
            [
             0.5,
             "#f7f7f7"
            ],
            [
             0.6,
             "#e6f5d0"
            ],
            [
             0.7,
             "#b8e186"
            ],
            [
             0.8,
             "#7fbc41"
            ],
            [
             0.9,
             "#4d9221"
            ],
            [
             1,
             "#276419"
            ]
           ],
           "sequential": [
            [
             0,
             "#0d0887"
            ],
            [
             0.1111111111111111,
             "#46039f"
            ],
            [
             0.2222222222222222,
             "#7201a8"
            ],
            [
             0.3333333333333333,
             "#9c179e"
            ],
            [
             0.4444444444444444,
             "#bd3786"
            ],
            [
             0.5555555555555556,
             "#d8576b"
            ],
            [
             0.6666666666666666,
             "#ed7953"
            ],
            [
             0.7777777777777778,
             "#fb9f3a"
            ],
            [
             0.8888888888888888,
             "#fdca26"
            ],
            [
             1,
             "#f0f921"
            ]
           ],
           "sequentialminus": [
            [
             0,
             "#0d0887"
            ],
            [
             0.1111111111111111,
             "#46039f"
            ],
            [
             0.2222222222222222,
             "#7201a8"
            ],
            [
             0.3333333333333333,
             "#9c179e"
            ],
            [
             0.4444444444444444,
             "#bd3786"
            ],
            [
             0.5555555555555556,
             "#d8576b"
            ],
            [
             0.6666666666666666,
             "#ed7953"
            ],
            [
             0.7777777777777778,
             "#fb9f3a"
            ],
            [
             0.8888888888888888,
             "#fdca26"
            ],
            [
             1,
             "#f0f921"
            ]
           ]
          },
          "colorway": [
           "#636efa",
           "#EF553B",
           "#00cc96",
           "#ab63fa",
           "#FFA15A",
           "#19d3f3",
           "#FF6692",
           "#B6E880",
           "#FF97FF",
           "#FECB52"
          ],
          "font": {
           "color": "#2a3f5f"
          },
          "geo": {
           "bgcolor": "white",
           "lakecolor": "white",
           "landcolor": "#E5ECF6",
           "showlakes": true,
           "showland": true,
           "subunitcolor": "white"
          },
          "hoverlabel": {
           "align": "left"
          },
          "hovermode": "closest",
          "mapbox": {
           "style": "light"
          },
          "paper_bgcolor": "white",
          "plot_bgcolor": "#E5ECF6",
          "polar": {
           "angularaxis": {
            "gridcolor": "white",
            "linecolor": "white",
            "ticks": ""
           },
           "bgcolor": "#E5ECF6",
           "radialaxis": {
            "gridcolor": "white",
            "linecolor": "white",
            "ticks": ""
           }
          },
          "scene": {
           "xaxis": {
            "backgroundcolor": "#E5ECF6",
            "gridcolor": "white",
            "gridwidth": 2,
            "linecolor": "white",
            "showbackground": true,
            "ticks": "",
            "zerolinecolor": "white"
           },
           "yaxis": {
            "backgroundcolor": "#E5ECF6",
            "gridcolor": "white",
            "gridwidth": 2,
            "linecolor": "white",
            "showbackground": true,
            "ticks": "",
            "zerolinecolor": "white"
           },
           "zaxis": {
            "backgroundcolor": "#E5ECF6",
            "gridcolor": "white",
            "gridwidth": 2,
            "linecolor": "white",
            "showbackground": true,
            "ticks": "",
            "zerolinecolor": "white"
           }
          },
          "shapedefaults": {
           "line": {
            "color": "#2a3f5f"
           }
          },
          "ternary": {
           "aaxis": {
            "gridcolor": "white",
            "linecolor": "white",
            "ticks": ""
           },
           "baxis": {
            "gridcolor": "white",
            "linecolor": "white",
            "ticks": ""
           },
           "bgcolor": "#E5ECF6",
           "caxis": {
            "gridcolor": "white",
            "linecolor": "white",
            "ticks": ""
           }
          },
          "title": {
           "x": 0.05
          },
          "xaxis": {
           "automargin": true,
           "gridcolor": "white",
           "linecolor": "white",
           "ticks": "",
           "title": {
            "standoff": 15
           },
           "zerolinecolor": "white",
           "zerolinewidth": 2
          },
          "yaxis": {
           "automargin": true,
           "gridcolor": "white",
           "linecolor": "white",
           "ticks": "",
           "title": {
            "standoff": 15
           },
           "zerolinecolor": "white",
           "zerolinewidth": 2
          }
         }
        },
        "width": 800,
        "xaxis": {
         "range": [
          0,
          3
         ],
         "visible": false
        },
        "yaxis": {
         "range": [
          0,
          1
         ],
         "visible": false
        }
       }
      }
     },
     "metadata": {},
     "output_type": "display_data"
    }
   ],
   "source": [
    "# Création de la figure\n",
    "fig = go.Figure()\n",
    "\n",
    "# Ajout des podiums\n",
    "fig.add_shape(type=\"rect\", x0=0, x1=1, y0=0, y1=0.2, fillcolor=\"lightgray\", line=dict(width=0))  # Podium gauche\n",
    "fig.add_shape(type=\"rect\", x0=1, x1=2, y0=0, y1=0.3, fillcolor=\"gold\", line=dict(width=0))      # Podium central\n",
    "fig.add_shape(type=\"rect\", x0=2, x1=3, y0=0, y1=0.2, fillcolor=\"lightgray\", line=dict(width=0))  # Podium droit\n",
    "\n",
    "# images\n",
    "fig.add_layout_image(dict(source=images.iloc[1], x=0.5, y=0.50, xref=\"x\", yref=\"y\", sizex=0.5, sizey=0.5, xanchor=\"center\", yanchor=\"middle\"))\n",
    "fig.add_layout_image(dict(source=images.iloc[0], x=1.5, y=0.60, xref=\"x\", yref=\"y\", sizex=0.6, sizey=0.6, xanchor=\"center\", yanchor=\"middle\"))\n",
    "fig.add_layout_image(dict(source=images.iloc[2], x=2.5, y=0.40, xref=\"x\", yref=\"y\", sizex=0.5, sizey=0.5, xanchor=\"center\", yanchor=\"middle\"))\n",
    "\n",
    "# nom de l'artiste et le titre\n",
    "fig.add_annotation(x=0.5, y=0.1, text=f\"<b>{artists.iloc[1]}<br>{tracks.iloc[1]}</b><br>Durée : {minute.iloc[1]} min<br>Popularité : {popularite.iloc[1]}\", \n",
    "                   showarrow=False, font=dict(size=10), xanchor=\"center\")\n",
    "fig.add_annotation(x=1.5, y=0.1, text=f\"<b>{artists.iloc[0]}<br>{tracks.iloc[0]}</b><br>Durée : {minute.iloc[0]} min<br>Popularité : {popularite.iloc[0]}\", showarrow=False, font=dict(size=10), xanchor=\"center\")\n",
    "fig.add_annotation(x=2.5, y=0.1, text=f\"<b>{artists.iloc[2]}<br>{tracks.iloc[2]}</b><br>Durée : {minute.iloc[2]} min<br>Popularité : {popularite.iloc[2]}\", showarrow=False, font=dict(size=10), xanchor=\"center\")\n",
    "\n",
    "\n",
    "# titre\n",
    "fig.add_annotation(\n",
    "    x=1.5, y=0.95, text=\"<b>Top titres</b>\", showarrow=False, font=dict(size=26), xanchor=\"center\", yanchor=\"top\"\n",
    ")\n",
    "\n",
    "# Mise en page\n",
    "fig.update_layout(\n",
    "    xaxis=dict(visible=False, range=[0, 3]),\n",
    "    yaxis=dict(visible=False, range=[0, 1]),\n",
    "    width=800,\n",
    "    height=400,\n",
    "    margin=dict(l=0, r=0, t=0, b=0),\n",
    "    plot_bgcolor=\"white\", \n",
    "    paper_bgcolor=\"white\" \n",
    ")\n",
    "\n",
    "# Afficher la figure\n",
    "fig.show()"
   ]
  },
  {
   "cell_type": "markdown",
   "metadata": {},
   "source": [
    "### Graphique intéractif pour comparer les moyennes de la popularité, de l'ancienneté et de la durée du TOP sélectionné avec tout le datamart"
   ]
  },
  {
   "cell_type": "code",
   "execution_count": 20,
   "metadata": {},
   "outputs": [],
   "source": [
    "# Calculer les moyennes pour la sélection\n",
    "mean_popularity = df_tracks['popularity'].mean()\n",
    "mean_anciennete = df_tracks['anciennete'].mean()\n",
    "mean_duration_min = df_tracks['duration_min'].mean()"
   ]
  },
  {
   "cell_type": "code",
   "execution_count": 21,
   "metadata": {},
   "outputs": [
    {
     "data": {
      "application/vnd.jupyter.widget-view+json": {
       "model_id": "7269c801a13b49f8a447932e3268278c",
       "version_major": 2,
       "version_minor": 0
      },
      "text/plain": [
       "interactive(children=(IntSlider(value=10, description='Classement ≤', max=50, min=1, style=SliderStyle(descrip…"
      ]
     },
     "execution_count": 21,
     "metadata": {},
     "output_type": "execute_result"
    }
   ],
   "source": [
    "\n",
    "def update_table_and_graphs(classement_max):\n",
    "\n",
    "    filtered_tracks = df_tracks[df_tracks['classement'] <= classement_max]\n",
    "\n",
    "    # moyennes pour la sélection\n",
    "    mean_popularity_filtered = filtered_tracks['popularity'].mean()\n",
    "    mean_anciennete_filtered = filtered_tracks['anciennete'].mean()\n",
    "    mean_duration_min_filtered = filtered_tracks['duration_min'].mean()\n",
    "\n",
    "    data = {\n",
    "        \"Catégorie\": ['Popularité', 'Ancienneté', 'Durée (min)'],\n",
    "        \"Moyenne Totale\": [round(mean_popularity, 1), round(mean_anciennete, 1), round(mean_duration_min, 1)],\n",
    "        f\"Moyenne TOP {classement_max}\": [\n",
    "            round(mean_popularity_filtered, 1),\n",
    "            round(mean_anciennete_filtered, 1),\n",
    "            round(mean_duration_min_filtered, 1)\n",
    "        ]\n",
    "    }\n",
    "    df_summary = pd.DataFrame(data)\n",
    "\n",
    "    # Transposer le DataFrame\n",
    "    df_summary_transposed = df_summary.set_index(\"Catégorie\").transpose()\n",
    "\n",
    "    # Affichage du tableau\n",
    "    table_widget = widgets.Output()\n",
    "    with table_widget:\n",
    "        display(df_summary_transposed)\n",
    "\n",
    "    # Création des graphiques\n",
    "    fig = make_subplots(\n",
    "        rows=1, cols=3,  # Une ligne, trois colonnes\n",
    "        subplot_titles=[\"Popularité\", \"Ancienneté\", \"Durée (min)\"]\n",
    "    )\n",
    "\n",
    "    # Données pour les graphiques\n",
    "    categories = ['Popularité', 'Ancienneté', 'Durée (min)']\n",
    "    total_means = [round(mean_popularity, 1), round(mean_anciennete, 1), round(mean_duration_min, 1)]\n",
    "    filtered_means = [round(mean_popularity_filtered, 1), round(mean_anciennete_filtered, 1), round(mean_duration_min_filtered, 1)]\n",
    "\n",
    "    # Ajouter les graphiques\n",
    "    for i, category in enumerate(categories):\n",
    "        fig.add_trace(\n",
    "            go.Bar(\n",
    "                x=['Moyenne Totale', f'Moyenne TOP {classement_max}'],\n",
    "                y=[total_means[i], filtered_means[i]],\n",
    "                marker_color=['blue', 'orange']\n",
    "            ),\n",
    "            row=1, col=i + 1\n",
    "        )\n",
    "\n",
    "    # mise en page des graphiques\n",
    "    fig.update_layout(\n",
    "        height=300,  \n",
    "        width=800,  \n",
    "        showlegend=False,\n",
    "        template=\"plotly_white\",\n",
    "        font=dict(size=8),  \n",
    "        title_font=dict(size=9),  \n",
    "        xaxis_title_font=dict(size=8),  \n",
    "        yaxis_title_font=dict(size=8)   \n",
    "    )\n",
    "\n",
    "    # Afficher le tableau et les graphiques\n",
    "    graph_widget = widgets.Output()\n",
    "    with graph_widget:\n",
    "        fig.show()\n",
    "\n",
    "    # Ajouter un titre\n",
    "    title_widget = widgets.HTML(\n",
    "        value=\"<h3 style='text-align: center;'>Comparaison des moyennes du TOP sélectionné en fonction du Total</h3>\"\n",
    "    )\n",
    "\n",
    "    content = widgets.VBox([\n",
    "        title_widget,\n",
    "        widgets.HBox([table_widget, graph_widget], layout=widgets.Layout(align_items='center'))\n",
    "    ])\n",
    "    display(content)\n",
    "\n",
    "# Création d'un widget slider pour sélectionner le classement maximum\n",
    "classement_slider = widgets.IntSlider(\n",
    "    value=10,  # Valeur par défaut\n",
    "    min=1,     \n",
    "    max=50,    \n",
    "    step=1,   \n",
    "    description='Classement ≤',\n",
    "    style={'description_width': 'initial'}\n",
    ")\n",
    "\n",
    "classement_slider.style.description_color = 'red'  # Change la couleur de la description en rouge\n",
    "\n",
    "# Affichage interactif\n",
    "widgets.interactive(update_table_and_graphs, classement_max=classement_slider)"
   ]
  },
  {
   "cell_type": "markdown",
   "metadata": {},
   "source": [
    "### Menu déroulant pour avoir les principales informations (Top artiste(s), top titre)"
   ]
  },
  {
   "cell_type": "code",
   "execution_count": 22,
   "metadata": {},
   "outputs": [],
   "source": [
    "# Définir les réponses\n",
    "artiste_pref = df_artists['artist_name'][df_artists['classement'] == 1]\n",
    "titre_pref = df_tracks['track_name'][df_tracks['classement'] == 1]\n",
    "artiste_top3 = df_artists['artist_name'][df_artists['classement'] < 4].tolist()"
   ]
  },
  {
   "cell_type": "code",
   "execution_count": 32,
   "metadata": {},
   "outputs": [
    {
     "data": {
      "application/vnd.jupyter.widget-view+json": {
       "model_id": "dd9cb735f8514f51adc7c6cd49e92516",
       "version_major": 2,
       "version_minor": 0
      },
      "text/plain": [
       "VBox(children=(Label(value='Sélectionnez une question :'), Dropdown(description='Choix :', options=('Quel est …"
      ]
     },
     "metadata": {},
     "output_type": "display_data"
    }
   ],
   "source": [
    "# Création du menu déroulant pour choisir une question\n",
    "dropdown = Dropdown(\n",
    "    options=[\n",
    "        \"Quel est ton artiste préféré ?\",\n",
    "        \"Quel est ton titre préféré ?\",\n",
    "        \"Quel est ton top 3 artiste ?\"\n",
    "    ],\n",
    "    description=\"Choix :\",\n",
    "    style={'description_width': 'initial'}\n",
    ")\n",
    "\n",
    "# Zone de sortie pour afficher la réponse\n",
    "output = Output()\n",
    "\n",
    "# Bouton \"Valider\"\n",
    "button = Button(description=\"Valider\", button_style=\"success\")\n",
    "\n",
    "# Fonction pour afficher la réponse en fonction de la sélection\n",
    "def on_button_click(b):\n",
    "    global rep \n",
    "    output.clear_output()\n",
    "    with output:\n",
    "        if dropdown.value == \"Quel est ton artiste préféré ?\":\n",
    "            rep = f\"Artiste préféré : {artiste_pref.iloc[0]}\"\n",
    "        elif dropdown.value == \"Quel est ton titre préféré ?\":\n",
    "            rep = f\"Titre préféré : {titre_pref.iloc[0]}\"\n",
    "        elif dropdown.value == \"Quel est ton top 3 artiste ?\":\n",
    "            rep = f\"Top 3 artistes : {', '.join(artiste_top3)}\"\n",
    "        print(rep)\n",
    "\n",
    "button.on_click(on_button_click)  # associe la bonne fonction\n",
    "\n",
    "# Afficher les widgets\n",
    "display(VBox([Label(\"Sélectionnez une question :\"), dropdown, button, output]))"
   ]
  },
  {
   "cell_type": "markdown",
   "metadata": {},
   "source": [
    "### En fonction des artistes préféré de la base de données, proposition de nouveaux artistes à découvrir"
   ]
  },
  {
   "cell_type": "code",
   "execution_count": 24,
   "metadata": {},
   "outputs": [],
   "source": [
    "# Travail sur les artistes similaires\n",
    "all_artists = ','.join(df_artists_info['similar_artists'].str.replace('\"', '', regex=False).str.upper()).replace(\"{\", \"\").replace(\"}\", \"\")\n",
    "artist_list = all_artists.split(',')\n",
    "\n",
    "# Filtrer les artistes pas dans le top 50\n",
    "artist_new = [artist for artist in artist_list if artist not in df_artists['artist_name'].str.upper().values]\n",
    "\n",
    "# Compter les occurrences de chaque mot\n",
    "artist_new_counts = Counter(artist_new)"
   ]
  },
  {
   "cell_type": "code",
   "execution_count": 25,
   "metadata": {},
   "outputs": [
    {
     "data": {
      "text/html": [
       "<b>Voici un exemple de 5 artistes qui pourraient vous intéresser :</b>"
      ],
      "text/plain": [
       "<IPython.core.display.HTML object>"
      ]
     },
     "metadata": {},
     "output_type": "display_data"
    },
    {
     "name": "stdout",
     "output_type": "stream",
     "text": [
      "JAZZY BAZZ\n",
      "AKHENATON\n",
      "SHURIK'N\n",
      "NÉPAL\n",
      "JEANJASS\n"
     ]
    }
   ],
   "source": [
    "# Afficher les 5 premiers artistes \n",
    "display(HTML(\"<b>Voici un exemple de 5 artistes qui pourraient vous intéresser :</b>\"))\n",
    "\n",
    "for artist, count in artist_new_counts.most_common(5):\n",
    "    print(f\"{artist}\")"
   ]
  },
  {
   "cell_type": "markdown",
   "metadata": {},
   "source": [
    "### Information sur le genre musical préféré en fonction des tracks"
   ]
  },
  {
   "cell_type": "code",
   "execution_count": 26,
   "metadata": {},
   "outputs": [],
   "source": [
    "# Filtrer avec df_tracks\n",
    "filtered_artists_info = df_artists_info[df_artists_info['artist_name'].isin(df_tracks['artist_name'])]\n",
    "\n",
    "# Combiner les tags (genre musical)\n",
    "all_tags = ','.join(filtered_artists_info['tags'].str.replace('\"', \"\", regex=False).str.upper()).replace(\"{\", \"\").replace(\"}\", \"\")\n",
    "all_tags_list = all_tags.split(',')"
   ]
  },
  {
   "cell_type": "code",
   "execution_count": 27,
   "metadata": {},
   "outputs": [],
   "source": [
    "# Faire un dictionnaire de correspondances car beaucoup de genres sont similaires mais avec un nom différent\n",
    "genre_dict = {\n",
    "    \"HIP-HOP\": \"Hip-Hop / Rap\", \"HIP HOP\": \"Hip-Hop / Rap\", \"RAP\": \"Hip-Hop / Rap\",\n",
    "    \"FRENCH RAP\": \"Hip-Hop / Rap\", \"RAP FRANCAIS\": \"Hip-Hop / Rap\", \"FRENCH HIP-HOP\": \"Hip-Hop / Rap\", \"FRENCH HIP HOP\": \"Hip-Hop / Rap\",\n",
    "    \"EAST COAST RAP\": \"Hip-Hop / Rap\", \"WEST COAST RAP\": \"Hip-Hop / Rap\", \"GANGSTA RAP\": \"Hip-Hop / Rap\", \"ALTERNATIVE RAP\": \"Hip-Hop / Rap\",\n",
    "    \"UNDERGROUND RAP\": \"Hip-Hop / Rap\", \"UNDERGROUND HIP-HOP\": \"Hip-Hop / Rap\", \"JAZZ RAP\": \"Hip-Hop / Rap\", \"JAZZ HOP\": \"Hip-Hop / Rap\",\n",
    "    \"UK HIP HOP\": \"Hip-Hop / Rap\", \"TURNTABLISM\": \"Hip-Hop / Rap\",\n",
    "\n",
    "    \"RNB\": \"R&B / Soul / Funk\", \"NEO-SOUL\": \"R&B / Soul / Funk\", \"SOUL\": \"R&B / Soul / Funk\", \"FUNK\": \"R&B / Soul / Funk\",\n",
    "    \"DAPTONE\": \"R&B / Soul / Funk\", \"GOSPEL\": \"R&B / Soul / Funk\", \"FUNK ROCK\": \"R&B / Soul / Funk\", \"MOTOWN\": \"R&B / Soul / Funk\",\n",
    "\n",
    "    \"ELECTRONIC\": \"Électronique\", \"ELECTRO\": \"Électronique\", \"ELECTRONICA\": \"Électronique\", \"EXPERIMENTAL\": \"Électronique\", \"IDM\": \"Électronique\",\n",
    "    \"INSTRUMENTAL\": \"Électronique\", \"BEATS\": \"Électronique\", \"SYNTHPOP\": \"Électronique\", \"SYNTH POP\": \"Électronique\",\n",
    "    \"TRIP-HOP\": \"Électronique\", \"DOWNTEMPO\": \"Électronique\", \"CHILLOUT\": \"Électronique\", \"LOUNGE\": \"Électronique\", \"AMBIENT\": \"Électronique\", \"TRANCE\": \"Électronique\",\n",
    "\n",
    "    \"HOUSE\": \"House\", \"DEEP HOUSE\": \"House\", \"FRENCH HOUSE\": \"House\", \"PROGRESSIVE HOUSE\": \"House\", \"AFRO-HOUSE\": \"House\",\n",
    "    \"WORLD-HOUSE\": \"House\", \"NOMAD-HOUSE\": \"House\", \"UK GARAGE\": \"House\", \"MINIMAL\": \"House\",\n",
    "\n",
    "    \"TECHNO\": \"Techno\", \"EBM\": \"Techno\", \"INDUSTRIAL\": \"Techno\", \"BREAKBEAT\": \"Techno\", \"ACID JAZZ\": \"Techno\",\n",
    "\n",
    "    \"JAZZ\": \"Jazz / Blues / Swing\", \"JAZZ VOCAL\": \"Jazz / Blues / Swing\", \"VOCAL JAZZ\": \"Jazz / Blues / Swing\", \"SWING\": \"Jazz / Blues / Swing\", \"BLUES\": \"Jazz / Blues / Swing\",\n",
    "\n",
    "    \"ROCK\": \"Rock / Indie / Pop\", \"CLASSIC ROCK\": \"Rock / Indie / Pop\", \"HARD ROCK\": \"Rock / Indie / Pop\", \"FOLK ROCK\": \"Rock / Indie / Pop\",\n",
    "    \"PSYCHEDELIC\": \"Rock / Indie / Pop\", \"PROTO-PUNK\": \"Rock / Indie / Pop\", \"HAIR METAL\": \"Rock / Indie / Pop\", \"ALTERNATIVE ROCK\": \"Rock / Indie / Pop\",\n",
    "    \"INDIE\": \"Rock / Indie / Pop\", \"INDIE ROCK\": \"Rock / Indie / Pop\", \"INDIE POP\": \"Rock / Indie / Pop\", \"SHOEGAZE\": \"Rock / Indie / Pop\",\n",
    "    \"POP\": \"Rock / Indie / Pop\", \"POP-ROCK\": \"Rock / Indie / Pop\", \"FRENCH POP\": \"Rock / Indie / Pop\", \"CHANSON FRANCAISE\": \"Rock / Indie / Pop\",\n",
    "\n",
    "    \"DEATH METAL\": \"Metal\", \"BRUTAL DEATH METAL\": \"Metal\", \"THRASH METAL\": \"Metal\",\n",
    "\n",
    "    \"REGGAE\": \"Musiques du monde\", \"GERMAN REGGAE\": \"Musiques du monde\", \"OPM\": \"Musiques du monde\",\n",
    "\n",
    "    \"FEMALE VOCALISTS\": \"Voix\", \"MALE VOCALISTS\": \"Voix\",\n",
    "\n",
    "    \"SEEN LIVE\": \"Autres\", \"NOUVELLE STAR\": \"Autres\", \"AWESOME\": \"Autres\",\n",
    "\n",
    "}\n"
   ]
  },
  {
   "cell_type": "code",
   "execution_count": 28,
   "metadata": {},
   "outputs": [],
   "source": [
    "tag_mapped = list(map(lambda x: genre_dict.get(x, \"Non classé\"), all_tags_list))\n",
    "\n",
    "# Compter les genre qui reviennent le plus\n",
    "tag_mapped_counts = Counter(tag_mapped)\n",
    "\n",
    "# Supprimer l'entrée 'Non classé'\n",
    "if 'Non classé' in tag_mapped_counts:\n",
    "    del tag_mapped_counts['Non classé']\n"
   ]
  },
  {
   "cell_type": "code",
   "execution_count": null,
   "metadata": {},
   "outputs": [
    {
     "data": {
      "application/vnd.jupyter.widget-view+json": {
       "model_id": "5c7cc97bde39446daf466bfac32974af",
       "version_major": 2,
       "version_minor": 0
      },
      "text/plain": [
       "VBox(children=(Label(value='Quel est ton genre de musique préféré ?'), Button(button_style='success', descript…"
      ]
     },
     "metadata": {},
     "output_type": "display_data"
    }
   ],
   "source": [
    "# Afficher le résultat\n",
    "genre_pref = tag_mapped_counts.most_common(1)\n",
    "\n",
    "output = Output()\n",
    "# afficher la réponse en cliquant sur boutton\n",
    "def on_button_click(b):\n",
    "    output.clear_output()\n",
    "    with output:\n",
    "        if b.description == \"Clic ici\":\n",
    "            rep = f\"Genre préféré : {genre_pref[0][0]}\"\n",
    "        print(rep)\n",
    "\n",
    "button_genre = Button(description=\"Clic ici\", button_style=\"success\")\n",
    "button_genre.on_click(on_button_click)\n",
    "\n",
    "# Afficher les widgets\n",
    "display(VBox([Label(\"Quel est ton genre de musique préféré ?\"), button_genre, output]))\n"
   ]
  },
  {
   "cell_type": "markdown",
   "metadata": {},
   "source": [
    "### Répartition des morceaux en fonction de la langue"
   ]
  },
  {
   "cell_type": "code",
   "execution_count": 33,
   "metadata": {},
   "outputs": [],
   "source": [
    "#Travail sur les valeurs manquantes\n",
    "df_parole_morceaux['parole'] = df_parole_morceaux['parole'].replace(\n",
    "    '{\"error\":\"seems like lyrics didn\\'t exist on Musixmatch server.\"}', 'NR'\n",
    ").fillna('NR')"
   ]
  },
  {
   "cell_type": "code",
   "execution_count": 34,
   "metadata": {},
   "outputs": [
    {
     "name": "stdout",
     "output_type": "stream",
     "text": [
      "0                                                   NR\n",
      "1    [00:01.35]Yeah, yeah\\n[00:04.15]Ayo Black, it'...\n",
      "Name: parole, dtype: object\n"
     ]
    }
   ],
   "source": [
    "print(df_parole_morceaux['parole'].head(2))"
   ]
  },
  {
   "cell_type": "code",
   "execution_count": 35,
   "metadata": {},
   "outputs": [],
   "source": [
    "# Supprimer les exp. regulières\n",
    "df_parole_morceaux['parole_modif'] = df_parole_morceaux['parole'].apply(lambda x: re.sub(r'\\[.*?\\]', '', x))\n",
    "\n",
    "# Fixer le seed pour des résultats reproductibles\n",
    "#DetectorFactory.seed = 0\n",
    "\n",
    "# Définir une fonction pour détecter la langue\n",
    "def detect_language(text):\n",
    "    try:\n",
    "        return detect(text)\n",
    "    except LangDetectException:\n",
    "        return 'unknown'\n",
    "\n",
    "# Appliquer la fonction à la colonne 'parole_modif'\n",
    "df_parole_morceaux['langue'] = df_parole_morceaux['parole_modif'].apply(detect_language)\n",
    "df_parole_morceaux['langue'][df_parole_morceaux['parole_modif'] == 'NR'] = 'NR'  # Remplacer les valeurs 'NR' par 'NR' dans la colonne 'langue'\n"
   ]
  },
  {
   "cell_type": "code",
   "execution_count": 36,
   "metadata": {},
   "outputs": [
    {
     "data": {
      "application/vnd.plotly.v1+json": {
       "config": {
        "plotlyServerURL": "https://plot.ly"
       },
       "data": [
        {
         "hole": 0.5,
         "labels": [
          "en",
          "fr"
         ],
         "marker": {
          "line": {
           "color": "white",
           "width": 2
          }
         },
         "textfont": {
          "size": 14
         },
         "textinfo": "percent+label",
         "type": "pie",
         "values": {
          "bdata": "Dws=",
          "dtype": "i1"
         }
        }
       ],
       "layout": {
        "legend": {
         "font": {
          "size": 12
         },
         "orientation": "h",
         "x": 0.5,
         "xanchor": "center",
         "y": -0.2,
         "yanchor": "bottom"
        },
        "margin": {
         "b": 50,
         "l": 50,
         "r": 50,
         "t": 50
        },
        "showlegend": true,
        "template": {
         "data": {
          "bar": [
           {
            "error_x": {
             "color": "#2a3f5f"
            },
            "error_y": {
             "color": "#2a3f5f"
            },
            "marker": {
             "line": {
              "color": "white",
              "width": 0.5
             },
             "pattern": {
              "fillmode": "overlay",
              "size": 10,
              "solidity": 0.2
             }
            },
            "type": "bar"
           }
          ],
          "barpolar": [
           {
            "marker": {
             "line": {
              "color": "white",
              "width": 0.5
             },
             "pattern": {
              "fillmode": "overlay",
              "size": 10,
              "solidity": 0.2
             }
            },
            "type": "barpolar"
           }
          ],
          "carpet": [
           {
            "aaxis": {
             "endlinecolor": "#2a3f5f",
             "gridcolor": "#C8D4E3",
             "linecolor": "#C8D4E3",
             "minorgridcolor": "#C8D4E3",
             "startlinecolor": "#2a3f5f"
            },
            "baxis": {
             "endlinecolor": "#2a3f5f",
             "gridcolor": "#C8D4E3",
             "linecolor": "#C8D4E3",
             "minorgridcolor": "#C8D4E3",
             "startlinecolor": "#2a3f5f"
            },
            "type": "carpet"
           }
          ],
          "choropleth": [
           {
            "colorbar": {
             "outlinewidth": 0,
             "ticks": ""
            },
            "type": "choropleth"
           }
          ],
          "contour": [
           {
            "colorbar": {
             "outlinewidth": 0,
             "ticks": ""
            },
            "colorscale": [
             [
              0,
              "#0d0887"
             ],
             [
              0.1111111111111111,
              "#46039f"
             ],
             [
              0.2222222222222222,
              "#7201a8"
             ],
             [
              0.3333333333333333,
              "#9c179e"
             ],
             [
              0.4444444444444444,
              "#bd3786"
             ],
             [
              0.5555555555555556,
              "#d8576b"
             ],
             [
              0.6666666666666666,
              "#ed7953"
             ],
             [
              0.7777777777777778,
              "#fb9f3a"
             ],
             [
              0.8888888888888888,
              "#fdca26"
             ],
             [
              1,
              "#f0f921"
             ]
            ],
            "type": "contour"
           }
          ],
          "contourcarpet": [
           {
            "colorbar": {
             "outlinewidth": 0,
             "ticks": ""
            },
            "type": "contourcarpet"
           }
          ],
          "heatmap": [
           {
            "colorbar": {
             "outlinewidth": 0,
             "ticks": ""
            },
            "colorscale": [
             [
              0,
              "#0d0887"
             ],
             [
              0.1111111111111111,
              "#46039f"
             ],
             [
              0.2222222222222222,
              "#7201a8"
             ],
             [
              0.3333333333333333,
              "#9c179e"
             ],
             [
              0.4444444444444444,
              "#bd3786"
             ],
             [
              0.5555555555555556,
              "#d8576b"
             ],
             [
              0.6666666666666666,
              "#ed7953"
             ],
             [
              0.7777777777777778,
              "#fb9f3a"
             ],
             [
              0.8888888888888888,
              "#fdca26"
             ],
             [
              1,
              "#f0f921"
             ]
            ],
            "type": "heatmap"
           }
          ],
          "histogram": [
           {
            "marker": {
             "pattern": {
              "fillmode": "overlay",
              "size": 10,
              "solidity": 0.2
             }
            },
            "type": "histogram"
           }
          ],
          "histogram2d": [
           {
            "colorbar": {
             "outlinewidth": 0,
             "ticks": ""
            },
            "colorscale": [
             [
              0,
              "#0d0887"
             ],
             [
              0.1111111111111111,
              "#46039f"
             ],
             [
              0.2222222222222222,
              "#7201a8"
             ],
             [
              0.3333333333333333,
              "#9c179e"
             ],
             [
              0.4444444444444444,
              "#bd3786"
             ],
             [
              0.5555555555555556,
              "#d8576b"
             ],
             [
              0.6666666666666666,
              "#ed7953"
             ],
             [
              0.7777777777777778,
              "#fb9f3a"
             ],
             [
              0.8888888888888888,
              "#fdca26"
             ],
             [
              1,
              "#f0f921"
             ]
            ],
            "type": "histogram2d"
           }
          ],
          "histogram2dcontour": [
           {
            "colorbar": {
             "outlinewidth": 0,
             "ticks": ""
            },
            "colorscale": [
             [
              0,
              "#0d0887"
             ],
             [
              0.1111111111111111,
              "#46039f"
             ],
             [
              0.2222222222222222,
              "#7201a8"
             ],
             [
              0.3333333333333333,
              "#9c179e"
             ],
             [
              0.4444444444444444,
              "#bd3786"
             ],
             [
              0.5555555555555556,
              "#d8576b"
             ],
             [
              0.6666666666666666,
              "#ed7953"
             ],
             [
              0.7777777777777778,
              "#fb9f3a"
             ],
             [
              0.8888888888888888,
              "#fdca26"
             ],
             [
              1,
              "#f0f921"
             ]
            ],
            "type": "histogram2dcontour"
           }
          ],
          "mesh3d": [
           {
            "colorbar": {
             "outlinewidth": 0,
             "ticks": ""
            },
            "type": "mesh3d"
           }
          ],
          "parcoords": [
           {
            "line": {
             "colorbar": {
              "outlinewidth": 0,
              "ticks": ""
             }
            },
            "type": "parcoords"
           }
          ],
          "pie": [
           {
            "automargin": true,
            "type": "pie"
           }
          ],
          "scatter": [
           {
            "fillpattern": {
             "fillmode": "overlay",
             "size": 10,
             "solidity": 0.2
            },
            "type": "scatter"
           }
          ],
          "scatter3d": [
           {
            "line": {
             "colorbar": {
              "outlinewidth": 0,
              "ticks": ""
             }
            },
            "marker": {
             "colorbar": {
              "outlinewidth": 0,
              "ticks": ""
             }
            },
            "type": "scatter3d"
           }
          ],
          "scattercarpet": [
           {
            "marker": {
             "colorbar": {
              "outlinewidth": 0,
              "ticks": ""
             }
            },
            "type": "scattercarpet"
           }
          ],
          "scattergeo": [
           {
            "marker": {
             "colorbar": {
              "outlinewidth": 0,
              "ticks": ""
             }
            },
            "type": "scattergeo"
           }
          ],
          "scattergl": [
           {
            "marker": {
             "colorbar": {
              "outlinewidth": 0,
              "ticks": ""
             }
            },
            "type": "scattergl"
           }
          ],
          "scattermap": [
           {
            "marker": {
             "colorbar": {
              "outlinewidth": 0,
              "ticks": ""
             }
            },
            "type": "scattermap"
           }
          ],
          "scattermapbox": [
           {
            "marker": {
             "colorbar": {
              "outlinewidth": 0,
              "ticks": ""
             }
            },
            "type": "scattermapbox"
           }
          ],
          "scatterpolar": [
           {
            "marker": {
             "colorbar": {
              "outlinewidth": 0,
              "ticks": ""
             }
            },
            "type": "scatterpolar"
           }
          ],
          "scatterpolargl": [
           {
            "marker": {
             "colorbar": {
              "outlinewidth": 0,
              "ticks": ""
             }
            },
            "type": "scatterpolargl"
           }
          ],
          "scatterternary": [
           {
            "marker": {
             "colorbar": {
              "outlinewidth": 0,
              "ticks": ""
             }
            },
            "type": "scatterternary"
           }
          ],
          "surface": [
           {
            "colorbar": {
             "outlinewidth": 0,
             "ticks": ""
            },
            "colorscale": [
             [
              0,
              "#0d0887"
             ],
             [
              0.1111111111111111,
              "#46039f"
             ],
             [
              0.2222222222222222,
              "#7201a8"
             ],
             [
              0.3333333333333333,
              "#9c179e"
             ],
             [
              0.4444444444444444,
              "#bd3786"
             ],
             [
              0.5555555555555556,
              "#d8576b"
             ],
             [
              0.6666666666666666,
              "#ed7953"
             ],
             [
              0.7777777777777778,
              "#fb9f3a"
             ],
             [
              0.8888888888888888,
              "#fdca26"
             ],
             [
              1,
              "#f0f921"
             ]
            ],
            "type": "surface"
           }
          ],
          "table": [
           {
            "cells": {
             "fill": {
              "color": "#EBF0F8"
             },
             "line": {
              "color": "white"
             }
            },
            "header": {
             "fill": {
              "color": "#C8D4E3"
             },
             "line": {
              "color": "white"
             }
            },
            "type": "table"
           }
          ]
         },
         "layout": {
          "annotationdefaults": {
           "arrowcolor": "#2a3f5f",
           "arrowhead": 0,
           "arrowwidth": 1
          },
          "autotypenumbers": "strict",
          "coloraxis": {
           "colorbar": {
            "outlinewidth": 0,
            "ticks": ""
           }
          },
          "colorscale": {
           "diverging": [
            [
             0,
             "#8e0152"
            ],
            [
             0.1,
             "#c51b7d"
            ],
            [
             0.2,
             "#de77ae"
            ],
            [
             0.3,
             "#f1b6da"
            ],
            [
             0.4,
             "#fde0ef"
            ],
            [
             0.5,
             "#f7f7f7"
            ],
            [
             0.6,
             "#e6f5d0"
            ],
            [
             0.7,
             "#b8e186"
            ],
            [
             0.8,
             "#7fbc41"
            ],
            [
             0.9,
             "#4d9221"
            ],
            [
             1,
             "#276419"
            ]
           ],
           "sequential": [
            [
             0,
             "#0d0887"
            ],
            [
             0.1111111111111111,
             "#46039f"
            ],
            [
             0.2222222222222222,
             "#7201a8"
            ],
            [
             0.3333333333333333,
             "#9c179e"
            ],
            [
             0.4444444444444444,
             "#bd3786"
            ],
            [
             0.5555555555555556,
             "#d8576b"
            ],
            [
             0.6666666666666666,
             "#ed7953"
            ],
            [
             0.7777777777777778,
             "#fb9f3a"
            ],
            [
             0.8888888888888888,
             "#fdca26"
            ],
            [
             1,
             "#f0f921"
            ]
           ],
           "sequentialminus": [
            [
             0,
             "#0d0887"
            ],
            [
             0.1111111111111111,
             "#46039f"
            ],
            [
             0.2222222222222222,
             "#7201a8"
            ],
            [
             0.3333333333333333,
             "#9c179e"
            ],
            [
             0.4444444444444444,
             "#bd3786"
            ],
            [
             0.5555555555555556,
             "#d8576b"
            ],
            [
             0.6666666666666666,
             "#ed7953"
            ],
            [
             0.7777777777777778,
             "#fb9f3a"
            ],
            [
             0.8888888888888888,
             "#fdca26"
            ],
            [
             1,
             "#f0f921"
            ]
           ]
          },
          "colorway": [
           "#636efa",
           "#EF553B",
           "#00cc96",
           "#ab63fa",
           "#FFA15A",
           "#19d3f3",
           "#FF6692",
           "#B6E880",
           "#FF97FF",
           "#FECB52"
          ],
          "font": {
           "color": "#2a3f5f"
          },
          "geo": {
           "bgcolor": "white",
           "lakecolor": "white",
           "landcolor": "white",
           "showlakes": true,
           "showland": true,
           "subunitcolor": "#C8D4E3"
          },
          "hoverlabel": {
           "align": "left"
          },
          "hovermode": "closest",
          "mapbox": {
           "style": "light"
          },
          "paper_bgcolor": "white",
          "plot_bgcolor": "white",
          "polar": {
           "angularaxis": {
            "gridcolor": "#EBF0F8",
            "linecolor": "#EBF0F8",
            "ticks": ""
           },
           "bgcolor": "white",
           "radialaxis": {
            "gridcolor": "#EBF0F8",
            "linecolor": "#EBF0F8",
            "ticks": ""
           }
          },
          "scene": {
           "xaxis": {
            "backgroundcolor": "white",
            "gridcolor": "#DFE8F3",
            "gridwidth": 2,
            "linecolor": "#EBF0F8",
            "showbackground": true,
            "ticks": "",
            "zerolinecolor": "#EBF0F8"
           },
           "yaxis": {
            "backgroundcolor": "white",
            "gridcolor": "#DFE8F3",
            "gridwidth": 2,
            "linecolor": "#EBF0F8",
            "showbackground": true,
            "ticks": "",
            "zerolinecolor": "#EBF0F8"
           },
           "zaxis": {
            "backgroundcolor": "white",
            "gridcolor": "#DFE8F3",
            "gridwidth": 2,
            "linecolor": "#EBF0F8",
            "showbackground": true,
            "ticks": "",
            "zerolinecolor": "#EBF0F8"
           }
          },
          "shapedefaults": {
           "line": {
            "color": "#2a3f5f"
           }
          },
          "ternary": {
           "aaxis": {
            "gridcolor": "#DFE8F3",
            "linecolor": "#A2B1C6",
            "ticks": ""
           },
           "baxis": {
            "gridcolor": "#DFE8F3",
            "linecolor": "#A2B1C6",
            "ticks": ""
           },
           "bgcolor": "white",
           "caxis": {
            "gridcolor": "#DFE8F3",
            "linecolor": "#A2B1C6",
            "ticks": ""
           }
          },
          "title": {
           "x": 0.05
          },
          "xaxis": {
           "automargin": true,
           "gridcolor": "#EBF0F8",
           "linecolor": "#EBF0F8",
           "ticks": "",
           "title": {
            "standoff": 15
           },
           "zerolinecolor": "#EBF0F8",
           "zerolinewidth": 2
          },
          "yaxis": {
           "automargin": true,
           "gridcolor": "#EBF0F8",
           "linecolor": "#EBF0F8",
           "ticks": "",
           "title": {
            "standoff": 15
           },
           "zerolinecolor": "#EBF0F8",
           "zerolinewidth": 2
          }
         }
        },
        "title": {
         "font": {
          "color": "black",
          "family": "Arial, sans-serif",
          "size": 20
         },
         "text": "Répartition des langues",
         "x": 0.5,
         "xanchor": "center"
        }
       }
      }
     },
     "metadata": {},
     "output_type": "display_data"
    }
   ],
   "source": [
    "# Filtrer les données pour exclure les valeurs \"NR\"\n",
    "langue_counts = df_parole_morceaux[df_parole_morceaux['langue'] != 'NR']['langue'].value_counts()\n",
    "\n",
    "# Créer graphique \n",
    "fig = go.Figure(data=[go.Pie(\n",
    "    labels=langue_counts.index,\n",
    "    values=langue_counts.values,\n",
    "    hole=0.5,  \n",
    "    textinfo='percent+label',\n",
    "    textfont=dict(size=14),  \n",
    "    marker=dict(line=dict(color='white', width=2))  \n",
    ")])\n",
    "\n",
    "# mise en page\n",
    "fig.update_layout(\n",
    "    title=dict(\n",
    "        text=\"Répartition des langues\", \n",
    "        x=0.5,  \n",
    "        xanchor='center',\n",
    "        font=dict(size=20, family=\"Arial, sans-serif\", color=\"black\")  \n",
    "    ),\n",
    "    showlegend=True, \n",
    "    legend=dict(\n",
    "        orientation=\"h\",  \n",
    "        yanchor=\"bottom\",\n",
    "        y=-0.2,  \n",
    "        xanchor=\"center\",\n",
    "        x=0.5,  \n",
    "        font=dict(size=12)\n",
    "    ),\n",
    "    margin=dict(t=50, b=50, l=50, r=50), \n",
    "    template=\"plotly_white\"  \n",
    ")\n",
    "\n",
    "# Afficher le graphique\n",
    "fig.show()"
   ]
  },
  {
   "cell_type": "markdown",
   "metadata": {},
   "source": [
    "Tous les morceaux sont classés en deux langues (anglais et français) avec une majorité d'anglais - 57.7%"
   ]
  },
  {
   "cell_type": "markdown",
   "metadata": {},
   "source": [
    "## Créer automatique une playlist dans mon compte spotify en fonction du Top tracks"
   ]
  },
  {
   "cell_type": "code",
   "execution_count": 37,
   "metadata": {},
   "outputs": [],
   "source": [
    "# Connexion à l'API Spotify\n",
    "client_id = os.getenv(\"spotify_id\")\n",
    "client_secret = os.getenv(\"spotify_secret\")\n",
    "redirect_uri = os.getenv(\"spotify_uri\")"
   ]
  },
  {
   "cell_type": "code",
   "execution_count": 38,
   "metadata": {},
   "outputs": [
    {
     "name": "stderr",
     "output_type": "stream",
     "text": [
      "Using 'localhost' as a redirect URI is being deprecated. Use a loopback IP address such as 127.0.0.1 to ensure your app remains functional.\n"
     ]
    }
   ],
   "source": [
    "# Authentification\n",
    "sp = spotipy.Spotify(auth_manager=SpotifyOAuth(client_id=client_id,\n",
    "                                               client_secret=client_secret,\n",
    "                                               redirect_uri=redirect_uri,\n",
    "                                               scope=[\"playlist-modify-public\", \"playlist-modify-private\"]))\n",
    "\n",
    "\n",
    "# Crée une playlist \n",
    "user_id = sp.current_user()['id']\n",
    "playlist = sp.user_playlist_create(user_id, 'Ma playlist top tracks automatique', public=True)\n"
   ]
  },
  {
   "cell_type": "code",
   "execution_count": null,
   "metadata": {},
   "outputs": [],
   "source": [
    "# récupérer nom artiste et nom du morceau\n",
    "songs = list(zip(df_tracks['artist_name'], df_tracks['track_name']))"
   ]
  },
  {
   "cell_type": "code",
   "execution_count": null,
   "metadata": {},
   "outputs": [
    {
     "name": "stdout",
     "output_type": "stream",
     "text": [
      "Ajout de la chanson: Let's Go de FCL à la playlist.\n",
      "Ajout de la chanson: N.Y. State of Mind de Nas à la playlist.\n",
      "Ajout de la chanson: Heroin de The Velvet Underground à la playlist.\n",
      "Ajout de la chanson: CERCLE VICIEUX de Deen Burbigo à la playlist.\n",
      "Ajout de la chanson: Paper de Schur à la playlist.\n",
      "Ajout de la chanson: Clio 4 de ISHA à la playlist.\n",
      "Ajout de la chanson: Les Alizés de Georgio à la playlist.\n",
      "Ajout de la chanson: Good Vibrations de Patrice à la playlist.\n",
      "Ajout de la chanson: IMMUNITÉ DIPLOMATIQUE de Deen Burbigo à la playlist.\n",
      "Ajout de la chanson: Tourne la page de Darzack à la playlist.\n",
      "Ajout de la chanson: Higher Ground de Stevie Wonder à la playlist.\n",
      "Ajout de la chanson: GP de Booba à la playlist.\n",
      "Ajout de la chanson: In Your Phase de Laurent Garnier à la playlist.\n",
      "Ajout de la chanson: Smalltown Boy - Nova Version de Catastrophe à la playlist.\n",
      "Ajout de la chanson: Do You Believe de Supreme Jubilees à la playlist.\n",
      "Ajout de la chanson: This Feeling I Get de Doug Shorts à la playlist.\n",
      "Ajout de la chanson: DREAMER de The Blaze à la playlist.\n",
      "Ajout de la chanson: Slits de Sporto Kantès à la playlist.\n",
      "Ajout de la chanson: For What It's Worth de Buffalo Springfield à la playlist.\n",
      "Chanson non trouvée: Les princes de la ville de 113\n",
      "Ajout de la chanson: Self de Cleo Sol à la playlist.\n",
      "Ajout de la chanson: Magic 2000 de Deborah Aime La Bagarre à la playlist.\n",
      "Ajout de la chanson: Les Nuits - Radio Edit de Nightmares On Wax à la playlist.\n",
      "Ajout de la chanson: Cocobongo de Superjava à la playlist.\n",
      "Ajout de la chanson: OJIISAMA de Deen Burbigo à la playlist.\n",
      "Ajout de la chanson: Livin' On A Prayer de Bon Jovi à la playlist.\n",
      "Ajout de la chanson: Afro Blue de Melanie De Biasio à la playlist.\n",
      "Ajout de la chanson: Old School de 2Pac à la playlist.\n",
      "Chanson non trouvée: Ouais gros de 113\n",
      "Ajout de la chanson: Style Is the Answer de Mash à la playlist.\n",
      "Ajout de la chanson: Feeling Good de The Mighty Bop à la playlist.\n",
      "Ajout de la chanson: Falling Behind de Laufey à la playlist.\n",
      "Ajout de la chanson: it's sky time de Seb Wildblood à la playlist.\n",
      "Ajout de la chanson: Paradis bleu de Revers Gagnant à la playlist.\n",
      "Ajout de la chanson: Hate de Loyle Carner à la playlist.\n",
      "Ajout de la chanson: That Beat In My Heart de Infravision à la playlist.\n",
      "Ajout de la chanson: Riders on the Storm de MEZERG à la playlist.\n",
      "Ajout de la chanson: Le plan A de ISHA à la playlist.\n",
      "Ajout de la chanson: Cycles de Ricky Razu à la playlist.\n",
      "Chanson non trouvée: 1001 nuits de 113\n",
      "Ajout de la chanson: Walkabout de Red Hot Chili Peppers à la playlist.\n",
      "Ajout de la chanson: Repeat de Caballero à la playlist.\n",
      "Ajout de la chanson: we did it again de Seb Wildblood à la playlist.\n",
      "Ajout de la chanson: Jimmy Fallon de ISHA à la playlist.\n",
      "Ajout de la chanson: Making A Living - Original Mix de Lee Rodriguez à la playlist.\n",
      "Ajout de la chanson: Le plan B de ISHA à la playlist.\n",
      "Ajout de la chanson: SUBLIME de Disiz à la playlist.\n",
      "Ajout de la chanson: Lotissement de ISHA à la playlist.\n",
      "Ajout de la chanson: Marcelle entre de Damlif à la playlist.\n",
      "Ajout de la chanson: Tard le soir de ISHA à la playlist.\n",
      "Pistes ajoutées à la playlist!\n"
     ]
    }
   ],
   "source": [
    "# Recherche des chansons et ajout à la playlist\n",
    "track_uris = []\n",
    "\n",
    "for artist, title in songs:\n",
    "    result = sp.search(q=f\"artist:{artist} track:{title}\", type=\"track\", limit=1)\n",
    "    \n",
    "    # Récupérer l'URI de la première piste trouvée\n",
    "    if result['tracks']['items']:\n",
    "        track_uri = result['tracks']['items'][0]['uri']\n",
    "        track_uris.append(track_uri)\n",
    "        print(f\"Ajout de la chanson: {title} de {artist} à la playlist.\")\n",
    "    else:\n",
    "        print(f\"Chanson non trouvée: {title} de {artist}\")\n",
    "\n",
    "# Ajouter les morceaux à la playlist\n",
    "if track_uris:\n",
    "    sp.playlist_add_items(playlist['id'], track_uris)\n",
    "    print(\"Pistes ajoutées à la playlist!\")\n",
    "else:\n",
    "    print(\"Aucune piste ajoutée à la playlist.\")"
   ]
  },
  {
   "cell_type": "markdown",
   "metadata": {},
   "source": []
  }
 ],
 "metadata": {
  "kernelspec": {
   "display_name": "Spotify (venv)",
   "language": "python",
   "name": "venv"
  },
  "language_info": {
   "codemirror_mode": {
    "name": "ipython",
    "version": 3
   },
   "file_extension": ".py",
   "mimetype": "text/x-python",
   "name": "python",
   "nbconvert_exporter": "python",
   "pygments_lexer": "ipython3",
   "version": "3.12.8"
  }
 },
 "nbformat": 4,
 "nbformat_minor": 2
}
